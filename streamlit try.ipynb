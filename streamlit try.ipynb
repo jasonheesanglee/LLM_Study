{
 "cells": [
  {
   "cell_type": "raw",
   "id": "c16f157e-3b66-482d-98b5-ddd52fd587cc",
   "metadata": {},
   "source": [
    "%%writefile harry_potter_searcher.py\n",
    "\n",
    "import os\n",
    "import json\n",
    "import glob\n",
    "import torch\n",
    "import tiktoken\n",
    "import chromadb\n",
    "import streamlit as st\n",
    "from tqdm.auto import tqdm\n",
    "from accelerate.utils import set_seed\n",
    "from langchain.chains import RetrievalQA\n",
    "from langchain.vectorstores import FAISS\n",
    "from langchain.vectorstores import Chroma\n",
    "from langchain.chat_models import ChatOpenAI\n",
    "from langchain.document_loaders import TextLoader\n",
    "from accelerate import Accelerator, notebook_launcher\n",
    "from langchain.embeddings import HuggingFaceBgeEmbeddings\n",
    "from langchain.chains.question_answering import load_qa_chain\n",
    "from langchain.text_splitter import RecursiveCharacterTextSplitter\n",
    "from langchain.callbacks.streaming_stdout import StreamingStdOutCallbackHandler\n",
    "from transformers import AutoConfig, AutoTokenizer, AutoModelForCausalLM, BitsAndBytesConfig\n",
    "\n",
    "with open ('./api_keys.json', 'rb') as f:\n",
    "    api_keys = json.load(f)\n",
    "os.environ['OPENAI_API_KEY'] = api_keys['OpenAI_API']\n",
    "os.environ['HF_AUTH_TOKEN'] = api_keys['HF_TOKEN']\n",
    "os.environ['GOOGLE_API_KEY'] = api_keys['GoogleDevAPI']\n",
    "\n",
    "accelerator = Accelerator()\n",
    "device = accelerator.device\n",
    "set_seed(42)\n",
    "\n",
    "files = glob.glob('./harry_potter_files/*.txt')\n",
    "\n",
    "model_name = 'BAAI/bge-small-en'\n",
    "model_kwargs = {'device': 'auto'}\n",
    "encode_kwargs = {'normalize_embeddings': True}\n",
    "\n",
    "hf = HuggingFaceBgeEmbeddings(\n",
    "    model_name=model_name,\n",
    "    model_kwargs=model_kwargs,\n",
    "    encode_kwargs=encode_kwargs\n",
    ")\n",
    "\n",
    "tokenizer = tiktoken.get_encoding(\"cl100k_base\")\n",
    "\n",
    "def tiktoken_len(text):\n",
    "    tokens = tokenizer.encode(text)\n",
    "    return len(tokens)\n",
    "\n",
    "\n",
    "\n",
    "def load_chunk_persist_text(path) -> Chroma:\n",
    "    documents = []\n",
    "    for file in os.listdir(path):\n",
    "        if file.endswith('.txt'):\n",
    "            txt_path = os.path.join(path, file)\n",
    "            loader = TextLoader(txt_path, encoding='iso-8859-1')\n",
    "            documents.extend(loader.load())\n",
    "    text_splitter = RecursiveCharacterTextSplitter(chunk_size=1000,\n",
    "                                                   chunk_overlap=10,\n",
    "                                                   length_function=tiktoken_len\n",
    "                                                   )\n",
    "    chunked_documents = text_splitter.split_documents(documents)\n",
    "    client = chromadb.Client()\n",
    "    if client.list_collections():\n",
    "        consent_collection = client.create_collection(\"consent_collection\")\n",
    "    else:\n",
    "        print(\"Collection already exists\")\n",
    "    vectordb = Chroma.from_documents(\n",
    "        documents=chunked_documents,\n",
    "        embedding=hf,\n",
    "        persist_directory=\"harry_potter_files/Harry_Potter_Chroma_DB\",\n",
    "    )\n",
    "    vectordb.persist()\n",
    "    return vectordb\n",
    "\n",
    "def load_persisted_chroma(directory: str) -> Chroma:\n",
    "    vectordb = Chroma(persist_directory=directory, embedding_function=hf)\n",
    "    return vectordb\n",
    "\n",
    "db = load_persisted_chroma('harry_potter_files/Harry_Potter_Chroma_DB')\n",
    "\n",
    "openai = ChatOpenAI(model_name='gpt-3.5-turbo',\n",
    "                    streaming=True, callbacks=[StreamingStdOutCallbackHandler()],\n",
    "                    temperature=0)\n",
    "\n",
    "qa = RetrievalQA.from_chain_type(\n",
    "    llm = openai,\n",
    "    chain_type='stuff',\n",
    "    retriever=db.as_retriever(\n",
    "        search_type='mmr',\n",
    "        search_kwargs={'k':3, 'fetch_k':10}\n",
    "    ),\n",
    "    return_source_documents=True\n",
    "    )\n",
    "\n",
    "def create_agent_chain():\n",
    "    model_name = \"gpt-3.5-turbo\"\n",
    "    llm = ChatOpenAI(model_name=model_name)\n",
    "    chain = load_qa_chain(llm, chain_type=\"stuff\")\n",
    "    return chain\n",
    "\n",
    "def create_agent_chain():\n",
    "    model_name = \"gpt-3.5-turbo\"\n",
    "    llm = ChatOpenAI(model_name=model_name)\n",
    "    chain = load_qa_chain(llm, chain_type=\"stuff\")\n",
    "    return chain\n",
    "\n",
    "def get_llm_response(query):\n",
    "    vectordb = load_persisted_chroma('harry_potter_files/Harry_Potter_Chroma_DB')\n",
    "    chain = create_agent_chain()\n",
    "    matching_docs = vectordb.similarity_search(query)\n",
    "    answer = chain.run(input_documents=matching_docs, question=query)\n",
    "    return answer\n",
    "\n",
    "\n",
    "# Streamlit UI\n",
    "# ===============\n",
    "st.set_page_config(page_title=\"Harry Potter Searcher\", page_icon=\":robot:\")\n",
    "st.header(\"Query Text Source\")\n",
    "\n",
    "form_input = st.text_input('Type anything you want to know from the Harry Potter Series')\n",
    "submit = st.button(\"Generate\")\n",
    "\n",
    "if submit:\n",
    "    st.write(get_llm_response(form_input))"
   ]
  },
  {
   "cell_type": "code",
   "execution_count": 14,
   "id": "4553d552-1ebd-451c-b01d-b0269dfccaf0",
   "metadata": {},
   "outputs": [
    {
     "name": "stdout",
     "output_type": "stream",
     "text": [
      "\u001b[K\u001b[?25hm#########\u001b[0m\u001b[100;90m⠂⠂⠂⠂⠂⠂⠂⠂⠂\u001b[0m) ⠏ idealTree: \u001b[32;40mtiming\u001b[0m \u001b[35midealTree\u001b[0m Completed in 29ms\u001b[0m\u001b[K[0m\u001b[K\n",
      "up to date, audited 23 packages in 431ms\n",
      "\n",
      "3 packages are looking for funding\n",
      "  run `npm fund` for details\n",
      "\n",
      "2 \u001b[33m\u001b[1mmoderate\u001b[22m\u001b[39m severity vulnerabilities\n",
      "\n",
      "To address all issues (including breaking changes), run:\n",
      "  npm audit fix --force\n",
      "\n",
      "Run `npm audit` for details.\n"
     ]
    }
   ],
   "source": [
    "!npm install localtunnel\n"
   ]
  },
  {
   "cell_type": "code",
   "execution_count": 15,
   "id": "b5e90d24-89cb-49db-8948-112b132994e5",
   "metadata": {},
   "outputs": [
    {
     "name": "stdout",
     "output_type": "stream",
     "text": [
      "58.122.170.34\n"
     ]
    }
   ],
   "source": [
    "!streamlit run harry_potter_searcher.py &>logs.txt & curl ipv4.icanhazip.com\n"
   ]
  },
  {
   "cell_type": "code",
   "execution_count": 16,
   "id": "7e03bdb2-1a29-43d8-afe5-4e2119221c33",
   "metadata": {},
   "outputs": [
    {
     "name": "stdout",
     "output_type": "stream",
     "text": [
      "your url is: https://orange-cats-tan.loca.lt\n",
      "/Users/b05/Desktop/Desktop - b05의 iMac/LLM_Study/node_modules/localtunnel/bin/lt.js:81\n",
      "    throw err;\n",
      "    ^\n",
      "\n",
      "Error: connection refused: localtunnel.me:35987 (check your firewall settings)\n",
      "    at Socket.<anonymous> \u001b[90m(/Users/b05/Desktop/Desktop - b05의 iMac/LLM_Study/\u001b[39mnode_modules/\u001b[4mlocaltunnel\u001b[24m/lib/TunnelCluster.js:52:11\u001b[90m)\u001b[39m\n",
      "\u001b[90m    at Socket.emit (node:events:514:28)\u001b[39m\n",
      "\u001b[90m    at emitErrorNT (node:internal/streams/destroy:151:8)\u001b[39m\n",
      "\u001b[90m    at emitErrorCloseNT (node:internal/streams/destroy:116:3)\u001b[39m\n",
      "\u001b[90m    at process.processTicksAndRejections (node:internal/process/task_queues:82:21)\u001b[39m\n",
      "\n",
      "Node.js v20.9.0\n"
     ]
    }
   ],
   "source": [
    "!npx localtunnel --port 8501\n"
   ]
  },
  {
   "cell_type": "code",
   "execution_count": null,
   "id": "29fe768c-b517-458f-bb47-b94c52441fe5",
   "metadata": {},
   "outputs": [],
   "source": []
  }
 ],
 "metadata": {
  "kernelspec": {
   "display_name": "Python 3 (ipykernel)",
   "language": "python",
   "name": "python3"
  },
  "language_info": {
   "codemirror_mode": {
    "name": "ipython",
    "version": 3
   },
   "file_extension": ".py",
   "mimetype": "text/x-python",
   "name": "python",
   "nbconvert_exporter": "python",
   "pygments_lexer": "ipython3",
   "version": "3.11.5"
  }
 },
 "nbformat": 4,
 "nbformat_minor": 5
}
