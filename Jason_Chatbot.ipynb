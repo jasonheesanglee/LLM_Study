{
  "nbformat": 4,
  "nbformat_minor": 0,
  "metadata": {
    "colab": {
      "provenance": [],
      "machine_shape": "hm",
      "gpuType": "V100",
      "authorship_tag": "ABX9TyPRFLjxg9WPyu3AZuHxc7Ve",
      "include_colab_link": true
    },
    "kernelspec": {
      "name": "python3",
      "display_name": "Python 3"
    },
    "language_info": {
      "name": "python"
    },
    "accelerator": "GPU",
    "widgets": {
      "application/vnd.jupyter.widget-state+json": {
        "7ab6989fa2d547a889b82eb3e49d2f8c": {
          "model_module": "@jupyter-widgets/controls",
          "model_name": "HBoxModel",
          "model_module_version": "1.5.0",
          "state": {
            "_dom_classes": [],
            "_model_module": "@jupyter-widgets/controls",
            "_model_module_version": "1.5.0",
            "_model_name": "HBoxModel",
            "_view_count": null,
            "_view_module": "@jupyter-widgets/controls",
            "_view_module_version": "1.5.0",
            "_view_name": "HBoxView",
            "box_style": "",
            "children": [
              "IPY_MODEL_10c44b6ca5304b3493c4153b6071b4ee",
              "IPY_MODEL_a297d8df520d47c6b443be0516ffdad7",
              "IPY_MODEL_81934333ebff49429b49864107bc4f41"
            ],
            "layout": "IPY_MODEL_9f3248e75fc7485b9479c7dfade4a31a"
          }
        },
        "10c44b6ca5304b3493c4153b6071b4ee": {
          "model_module": "@jupyter-widgets/controls",
          "model_name": "HTMLModel",
          "model_module_version": "1.5.0",
          "state": {
            "_dom_classes": [],
            "_model_module": "@jupyter-widgets/controls",
            "_model_module_version": "1.5.0",
            "_model_name": "HTMLModel",
            "_view_count": null,
            "_view_module": "@jupyter-widgets/controls",
            "_view_module_version": "1.5.0",
            "_view_name": "HTMLView",
            "description": "",
            "description_tooltip": null,
            "layout": "IPY_MODEL_ffcc1201fe88409a86e0ec392640bfcb",
            "placeholder": "​",
            "style": "IPY_MODEL_2720da2f7ebc4f0cb57f699302a2cda4",
            "value": "Loading checkpoint shards: 100%"
          }
        },
        "a297d8df520d47c6b443be0516ffdad7": {
          "model_module": "@jupyter-widgets/controls",
          "model_name": "FloatProgressModel",
          "model_module_version": "1.5.0",
          "state": {
            "_dom_classes": [],
            "_model_module": "@jupyter-widgets/controls",
            "_model_module_version": "1.5.0",
            "_model_name": "FloatProgressModel",
            "_view_count": null,
            "_view_module": "@jupyter-widgets/controls",
            "_view_module_version": "1.5.0",
            "_view_name": "ProgressView",
            "bar_style": "success",
            "description": "",
            "description_tooltip": null,
            "layout": "IPY_MODEL_93caad6cf99a4819b4518144912c5351",
            "max": 2,
            "min": 0,
            "orientation": "horizontal",
            "style": "IPY_MODEL_419a107ef05142988cc5ef6df714ac6e",
            "value": 2
          }
        },
        "81934333ebff49429b49864107bc4f41": {
          "model_module": "@jupyter-widgets/controls",
          "model_name": "HTMLModel",
          "model_module_version": "1.5.0",
          "state": {
            "_dom_classes": [],
            "_model_module": "@jupyter-widgets/controls",
            "_model_module_version": "1.5.0",
            "_model_name": "HTMLModel",
            "_view_count": null,
            "_view_module": "@jupyter-widgets/controls",
            "_view_module_version": "1.5.0",
            "_view_name": "HTMLView",
            "description": "",
            "description_tooltip": null,
            "layout": "IPY_MODEL_1d4ed9be82954e438a5c8d6855bdb5f4",
            "placeholder": "​",
            "style": "IPY_MODEL_bd834e813d104fcaaa386038de6c1eee",
            "value": " 2/2 [00:05&lt;00:00,  2.50s/it]"
          }
        },
        "9f3248e75fc7485b9479c7dfade4a31a": {
          "model_module": "@jupyter-widgets/base",
          "model_name": "LayoutModel",
          "model_module_version": "1.2.0",
          "state": {
            "_model_module": "@jupyter-widgets/base",
            "_model_module_version": "1.2.0",
            "_model_name": "LayoutModel",
            "_view_count": null,
            "_view_module": "@jupyter-widgets/base",
            "_view_module_version": "1.2.0",
            "_view_name": "LayoutView",
            "align_content": null,
            "align_items": null,
            "align_self": null,
            "border": null,
            "bottom": null,
            "display": null,
            "flex": null,
            "flex_flow": null,
            "grid_area": null,
            "grid_auto_columns": null,
            "grid_auto_flow": null,
            "grid_auto_rows": null,
            "grid_column": null,
            "grid_gap": null,
            "grid_row": null,
            "grid_template_areas": null,
            "grid_template_columns": null,
            "grid_template_rows": null,
            "height": null,
            "justify_content": null,
            "justify_items": null,
            "left": null,
            "margin": null,
            "max_height": null,
            "max_width": null,
            "min_height": null,
            "min_width": null,
            "object_fit": null,
            "object_position": null,
            "order": null,
            "overflow": null,
            "overflow_x": null,
            "overflow_y": null,
            "padding": null,
            "right": null,
            "top": null,
            "visibility": null,
            "width": null
          }
        },
        "ffcc1201fe88409a86e0ec392640bfcb": {
          "model_module": "@jupyter-widgets/base",
          "model_name": "LayoutModel",
          "model_module_version": "1.2.0",
          "state": {
            "_model_module": "@jupyter-widgets/base",
            "_model_module_version": "1.2.0",
            "_model_name": "LayoutModel",
            "_view_count": null,
            "_view_module": "@jupyter-widgets/base",
            "_view_module_version": "1.2.0",
            "_view_name": "LayoutView",
            "align_content": null,
            "align_items": null,
            "align_self": null,
            "border": null,
            "bottom": null,
            "display": null,
            "flex": null,
            "flex_flow": null,
            "grid_area": null,
            "grid_auto_columns": null,
            "grid_auto_flow": null,
            "grid_auto_rows": null,
            "grid_column": null,
            "grid_gap": null,
            "grid_row": null,
            "grid_template_areas": null,
            "grid_template_columns": null,
            "grid_template_rows": null,
            "height": null,
            "justify_content": null,
            "justify_items": null,
            "left": null,
            "margin": null,
            "max_height": null,
            "max_width": null,
            "min_height": null,
            "min_width": null,
            "object_fit": null,
            "object_position": null,
            "order": null,
            "overflow": null,
            "overflow_x": null,
            "overflow_y": null,
            "padding": null,
            "right": null,
            "top": null,
            "visibility": null,
            "width": null
          }
        },
        "2720da2f7ebc4f0cb57f699302a2cda4": {
          "model_module": "@jupyter-widgets/controls",
          "model_name": "DescriptionStyleModel",
          "model_module_version": "1.5.0",
          "state": {
            "_model_module": "@jupyter-widgets/controls",
            "_model_module_version": "1.5.0",
            "_model_name": "DescriptionStyleModel",
            "_view_count": null,
            "_view_module": "@jupyter-widgets/base",
            "_view_module_version": "1.2.0",
            "_view_name": "StyleView",
            "description_width": ""
          }
        },
        "93caad6cf99a4819b4518144912c5351": {
          "model_module": "@jupyter-widgets/base",
          "model_name": "LayoutModel",
          "model_module_version": "1.2.0",
          "state": {
            "_model_module": "@jupyter-widgets/base",
            "_model_module_version": "1.2.0",
            "_model_name": "LayoutModel",
            "_view_count": null,
            "_view_module": "@jupyter-widgets/base",
            "_view_module_version": "1.2.0",
            "_view_name": "LayoutView",
            "align_content": null,
            "align_items": null,
            "align_self": null,
            "border": null,
            "bottom": null,
            "display": null,
            "flex": null,
            "flex_flow": null,
            "grid_area": null,
            "grid_auto_columns": null,
            "grid_auto_flow": null,
            "grid_auto_rows": null,
            "grid_column": null,
            "grid_gap": null,
            "grid_row": null,
            "grid_template_areas": null,
            "grid_template_columns": null,
            "grid_template_rows": null,
            "height": null,
            "justify_content": null,
            "justify_items": null,
            "left": null,
            "margin": null,
            "max_height": null,
            "max_width": null,
            "min_height": null,
            "min_width": null,
            "object_fit": null,
            "object_position": null,
            "order": null,
            "overflow": null,
            "overflow_x": null,
            "overflow_y": null,
            "padding": null,
            "right": null,
            "top": null,
            "visibility": null,
            "width": null
          }
        },
        "419a107ef05142988cc5ef6df714ac6e": {
          "model_module": "@jupyter-widgets/controls",
          "model_name": "ProgressStyleModel",
          "model_module_version": "1.5.0",
          "state": {
            "_model_module": "@jupyter-widgets/controls",
            "_model_module_version": "1.5.0",
            "_model_name": "ProgressStyleModel",
            "_view_count": null,
            "_view_module": "@jupyter-widgets/base",
            "_view_module_version": "1.2.0",
            "_view_name": "StyleView",
            "bar_color": null,
            "description_width": ""
          }
        },
        "1d4ed9be82954e438a5c8d6855bdb5f4": {
          "model_module": "@jupyter-widgets/base",
          "model_name": "LayoutModel",
          "model_module_version": "1.2.0",
          "state": {
            "_model_module": "@jupyter-widgets/base",
            "_model_module_version": "1.2.0",
            "_model_name": "LayoutModel",
            "_view_count": null,
            "_view_module": "@jupyter-widgets/base",
            "_view_module_version": "1.2.0",
            "_view_name": "LayoutView",
            "align_content": null,
            "align_items": null,
            "align_self": null,
            "border": null,
            "bottom": null,
            "display": null,
            "flex": null,
            "flex_flow": null,
            "grid_area": null,
            "grid_auto_columns": null,
            "grid_auto_flow": null,
            "grid_auto_rows": null,
            "grid_column": null,
            "grid_gap": null,
            "grid_row": null,
            "grid_template_areas": null,
            "grid_template_columns": null,
            "grid_template_rows": null,
            "height": null,
            "justify_content": null,
            "justify_items": null,
            "left": null,
            "margin": null,
            "max_height": null,
            "max_width": null,
            "min_height": null,
            "min_width": null,
            "object_fit": null,
            "object_position": null,
            "order": null,
            "overflow": null,
            "overflow_x": null,
            "overflow_y": null,
            "padding": null,
            "right": null,
            "top": null,
            "visibility": null,
            "width": null
          }
        },
        "bd834e813d104fcaaa386038de6c1eee": {
          "model_module": "@jupyter-widgets/controls",
          "model_name": "DescriptionStyleModel",
          "model_module_version": "1.5.0",
          "state": {
            "_model_module": "@jupyter-widgets/controls",
            "_model_module_version": "1.5.0",
            "_model_name": "DescriptionStyleModel",
            "_view_count": null,
            "_view_module": "@jupyter-widgets/base",
            "_view_module_version": "1.2.0",
            "_view_name": "StyleView",
            "description_width": ""
          }
        },
        "4b2b548dd2374a2cb6b146d9c65c49c8": {
          "model_module": "@jupyter-widgets/controls",
          "model_name": "HBoxModel",
          "model_module_version": "1.5.0",
          "state": {
            "_dom_classes": [],
            "_model_module": "@jupyter-widgets/controls",
            "_model_module_version": "1.5.0",
            "_model_name": "HBoxModel",
            "_view_count": null,
            "_view_module": "@jupyter-widgets/controls",
            "_view_module_version": "1.5.0",
            "_view_name": "HBoxView",
            "box_style": "",
            "children": [
              "IPY_MODEL_0890c821562541b3af55e0ac3c936bf8",
              "IPY_MODEL_ed939e3e15ba43f9b57f7d2e0e039ce2",
              "IPY_MODEL_48a7f40e5ed147da900e551eeed0219b"
            ],
            "layout": "IPY_MODEL_2e9e4f37d60a4bfa93ce8b81c44c9a23"
          }
        },
        "0890c821562541b3af55e0ac3c936bf8": {
          "model_module": "@jupyter-widgets/controls",
          "model_name": "HTMLModel",
          "model_module_version": "1.5.0",
          "state": {
            "_dom_classes": [],
            "_model_module": "@jupyter-widgets/controls",
            "_model_module_version": "1.5.0",
            "_model_name": "HTMLModel",
            "_view_count": null,
            "_view_module": "@jupyter-widgets/controls",
            "_view_module_version": "1.5.0",
            "_view_name": "HTMLView",
            "description": "",
            "description_tooltip": null,
            "layout": "IPY_MODEL_56608b09531d4060ae7f9ec909a0c28b",
            "placeholder": "​",
            "style": "IPY_MODEL_52411717547f43f49425f731ab018e34",
            "value": ""
          }
        },
        "ed939e3e15ba43f9b57f7d2e0e039ce2": {
          "model_module": "@jupyter-widgets/controls",
          "model_name": "FloatProgressModel",
          "model_module_version": "1.5.0",
          "state": {
            "_dom_classes": [],
            "_model_module": "@jupyter-widgets/controls",
            "_model_module_version": "1.5.0",
            "_model_name": "FloatProgressModel",
            "_view_count": null,
            "_view_module": "@jupyter-widgets/controls",
            "_view_module_version": "1.5.0",
            "_view_name": "ProgressView",
            "bar_style": "success",
            "description": "",
            "description_tooltip": null,
            "layout": "IPY_MODEL_2f176e7f51114507a86747ec790ca456",
            "max": 1,
            "min": 0,
            "orientation": "horizontal",
            "style": "IPY_MODEL_14433e8cb3c54e40addb676c6d701aa3",
            "value": 1
          }
        },
        "48a7f40e5ed147da900e551eeed0219b": {
          "model_module": "@jupyter-widgets/controls",
          "model_name": "HTMLModel",
          "model_module_version": "1.5.0",
          "state": {
            "_dom_classes": [],
            "_model_module": "@jupyter-widgets/controls",
            "_model_module_version": "1.5.0",
            "_model_name": "HTMLModel",
            "_view_count": null,
            "_view_module": "@jupyter-widgets/controls",
            "_view_module_version": "1.5.0",
            "_view_name": "HTMLView",
            "description": "",
            "description_tooltip": null,
            "layout": "IPY_MODEL_1f56c81b18b4497990dde9f9cba1c0e4",
            "placeholder": "​",
            "style": "IPY_MODEL_5e5751b6122b43959704841caab0ef53",
            "value": " 135/? [02:28&lt;00:00,  1.35it/s]"
          }
        },
        "2e9e4f37d60a4bfa93ce8b81c44c9a23": {
          "model_module": "@jupyter-widgets/base",
          "model_name": "LayoutModel",
          "model_module_version": "1.2.0",
          "state": {
            "_model_module": "@jupyter-widgets/base",
            "_model_module_version": "1.2.0",
            "_model_name": "LayoutModel",
            "_view_count": null,
            "_view_module": "@jupyter-widgets/base",
            "_view_module_version": "1.2.0",
            "_view_name": "LayoutView",
            "align_content": null,
            "align_items": null,
            "align_self": null,
            "border": null,
            "bottom": null,
            "display": null,
            "flex": null,
            "flex_flow": null,
            "grid_area": null,
            "grid_auto_columns": null,
            "grid_auto_flow": null,
            "grid_auto_rows": null,
            "grid_column": null,
            "grid_gap": null,
            "grid_row": null,
            "grid_template_areas": null,
            "grid_template_columns": null,
            "grid_template_rows": null,
            "height": null,
            "justify_content": null,
            "justify_items": null,
            "left": null,
            "margin": null,
            "max_height": null,
            "max_width": null,
            "min_height": null,
            "min_width": null,
            "object_fit": null,
            "object_position": null,
            "order": null,
            "overflow": null,
            "overflow_x": null,
            "overflow_y": null,
            "padding": null,
            "right": null,
            "top": null,
            "visibility": null,
            "width": null
          }
        },
        "56608b09531d4060ae7f9ec909a0c28b": {
          "model_module": "@jupyter-widgets/base",
          "model_name": "LayoutModel",
          "model_module_version": "1.2.0",
          "state": {
            "_model_module": "@jupyter-widgets/base",
            "_model_module_version": "1.2.0",
            "_model_name": "LayoutModel",
            "_view_count": null,
            "_view_module": "@jupyter-widgets/base",
            "_view_module_version": "1.2.0",
            "_view_name": "LayoutView",
            "align_content": null,
            "align_items": null,
            "align_self": null,
            "border": null,
            "bottom": null,
            "display": null,
            "flex": null,
            "flex_flow": null,
            "grid_area": null,
            "grid_auto_columns": null,
            "grid_auto_flow": null,
            "grid_auto_rows": null,
            "grid_column": null,
            "grid_gap": null,
            "grid_row": null,
            "grid_template_areas": null,
            "grid_template_columns": null,
            "grid_template_rows": null,
            "height": null,
            "justify_content": null,
            "justify_items": null,
            "left": null,
            "margin": null,
            "max_height": null,
            "max_width": null,
            "min_height": null,
            "min_width": null,
            "object_fit": null,
            "object_position": null,
            "order": null,
            "overflow": null,
            "overflow_x": null,
            "overflow_y": null,
            "padding": null,
            "right": null,
            "top": null,
            "visibility": null,
            "width": null
          }
        },
        "52411717547f43f49425f731ab018e34": {
          "model_module": "@jupyter-widgets/controls",
          "model_name": "DescriptionStyleModel",
          "model_module_version": "1.5.0",
          "state": {
            "_model_module": "@jupyter-widgets/controls",
            "_model_module_version": "1.5.0",
            "_model_name": "DescriptionStyleModel",
            "_view_count": null,
            "_view_module": "@jupyter-widgets/base",
            "_view_module_version": "1.2.0",
            "_view_name": "StyleView",
            "description_width": ""
          }
        },
        "2f176e7f51114507a86747ec790ca456": {
          "model_module": "@jupyter-widgets/base",
          "model_name": "LayoutModel",
          "model_module_version": "1.2.0",
          "state": {
            "_model_module": "@jupyter-widgets/base",
            "_model_module_version": "1.2.0",
            "_model_name": "LayoutModel",
            "_view_count": null,
            "_view_module": "@jupyter-widgets/base",
            "_view_module_version": "1.2.0",
            "_view_name": "LayoutView",
            "align_content": null,
            "align_items": null,
            "align_self": null,
            "border": null,
            "bottom": null,
            "display": null,
            "flex": null,
            "flex_flow": null,
            "grid_area": null,
            "grid_auto_columns": null,
            "grid_auto_flow": null,
            "grid_auto_rows": null,
            "grid_column": null,
            "grid_gap": null,
            "grid_row": null,
            "grid_template_areas": null,
            "grid_template_columns": null,
            "grid_template_rows": null,
            "height": null,
            "justify_content": null,
            "justify_items": null,
            "left": null,
            "margin": null,
            "max_height": null,
            "max_width": null,
            "min_height": null,
            "min_width": null,
            "object_fit": null,
            "object_position": null,
            "order": null,
            "overflow": null,
            "overflow_x": null,
            "overflow_y": null,
            "padding": null,
            "right": null,
            "top": null,
            "visibility": null,
            "width": "20px"
          }
        },
        "14433e8cb3c54e40addb676c6d701aa3": {
          "model_module": "@jupyter-widgets/controls",
          "model_name": "ProgressStyleModel",
          "model_module_version": "1.5.0",
          "state": {
            "_model_module": "@jupyter-widgets/controls",
            "_model_module_version": "1.5.0",
            "_model_name": "ProgressStyleModel",
            "_view_count": null,
            "_view_module": "@jupyter-widgets/base",
            "_view_module_version": "1.2.0",
            "_view_name": "StyleView",
            "bar_color": null,
            "description_width": ""
          }
        },
        "1f56c81b18b4497990dde9f9cba1c0e4": {
          "model_module": "@jupyter-widgets/base",
          "model_name": "LayoutModel",
          "model_module_version": "1.2.0",
          "state": {
            "_model_module": "@jupyter-widgets/base",
            "_model_module_version": "1.2.0",
            "_model_name": "LayoutModel",
            "_view_count": null,
            "_view_module": "@jupyter-widgets/base",
            "_view_module_version": "1.2.0",
            "_view_name": "LayoutView",
            "align_content": null,
            "align_items": null,
            "align_self": null,
            "border": null,
            "bottom": null,
            "display": null,
            "flex": null,
            "flex_flow": null,
            "grid_area": null,
            "grid_auto_columns": null,
            "grid_auto_flow": null,
            "grid_auto_rows": null,
            "grid_column": null,
            "grid_gap": null,
            "grid_row": null,
            "grid_template_areas": null,
            "grid_template_columns": null,
            "grid_template_rows": null,
            "height": null,
            "justify_content": null,
            "justify_items": null,
            "left": null,
            "margin": null,
            "max_height": null,
            "max_width": null,
            "min_height": null,
            "min_width": null,
            "object_fit": null,
            "object_position": null,
            "order": null,
            "overflow": null,
            "overflow_x": null,
            "overflow_y": null,
            "padding": null,
            "right": null,
            "top": null,
            "visibility": null,
            "width": null
          }
        },
        "5e5751b6122b43959704841caab0ef53": {
          "model_module": "@jupyter-widgets/controls",
          "model_name": "DescriptionStyleModel",
          "model_module_version": "1.5.0",
          "state": {
            "_model_module": "@jupyter-widgets/controls",
            "_model_module_version": "1.5.0",
            "_model_name": "DescriptionStyleModel",
            "_view_count": null,
            "_view_module": "@jupyter-widgets/base",
            "_view_module_version": "1.2.0",
            "_view_name": "StyleView",
            "description_width": ""
          }
        }
      }
    }
  },
  "cells": [
    {
      "cell_type": "markdown",
      "metadata": {
        "id": "view-in-github",
        "colab_type": "text"
      },
      "source": [
        "<a href=\"https://colab.research.google.com/github/jasonheesanglee/LLM_Study/blob/main/Jason_Chatbot.ipynb\" target=\"_parent\"><img src=\"https://colab.research.google.com/assets/colab-badge.svg\" alt=\"Open In Colab\"/></a>"
      ]
    },
    {
      "cell_type": "code",
      "execution_count": 29,
      "metadata": {
        "colab": {
          "base_uri": "https://localhost:8080/"
        },
        "id": "4hyBB_e3gXtz",
        "outputId": "a345f4e1-2523-46b8-9bc1-66216a77e9ba"
      },
      "outputs": [
        {
          "output_type": "stream",
          "name": "stdout",
          "text": [
            "Drive already mounted at /content/drive; to attempt to forcibly remount, call drive.mount(\"/content/drive\", force_remount=True).\n"
          ]
        }
      ],
      "source": [
        "import os\n",
        "from google.colab import drive\n",
        "drive.mount('/content/drive')\n",
        "from google.colab import userdata\n",
        "os.environ['OPENAI_API_KEY'] = userdata.get('OpenAI_API')\n",
        "os.environ['HF_AUTH_TOKEN'] = userdata.get('HF_TOKEN')\n",
        "os.environ['GOOGLE_API_KEY'] = userdata.get('GoogleDevAPI')\n",
        "\n",
        "import warnings\n",
        "warnings.filterwarnings('ignore')\n",
        "warnings.simplefilter('ignore')"
      ]
    },
    {
      "cell_type": "code",
      "source": [
        "import locale\n",
        "def getpreferredencoding(do_setlocale=True):\n",
        "    return 'UTF-8'\n",
        "\n",
        "locale.getpreferredencoding = getpreferredencoding"
      ],
      "metadata": {
        "id": "V-GbNvhLO2XU"
      },
      "execution_count": 30,
      "outputs": []
    },
    {
      "cell_type": "code",
      "source": [
        "!pip install -qqq fastapi uvicorn tiktoken kaleido cohere openai torch python-multipart langchain transformers sentence_transformers accelerate chromadb pypdf\n",
        "!pip install -qqq bitsandbytes huggingface\n",
        "!pip install -qqq streamlit python-dotenv\n",
        "!pip install -qqq unstructured > /dev/null"
      ],
      "metadata": {
        "id": "kRhWrKYygfcS"
      },
      "execution_count": 31,
      "outputs": []
    },
    {
      "cell_type": "code",
      "source": [
        "!nvidia-smi"
      ],
      "metadata": {
        "colab": {
          "base_uri": "https://localhost:8080/"
        },
        "id": "MQG5EUwmg4by",
        "outputId": "7f9afb10-d6b3-41ad-a7ca-765d9b2902cc"
      },
      "execution_count": 32,
      "outputs": [
        {
          "output_type": "stream",
          "name": "stdout",
          "text": [
            "Tue Feb 20 08:36:43 2024       \n",
            "+---------------------------------------------------------------------------------------+\n",
            "| NVIDIA-SMI 535.104.05             Driver Version: 535.104.05   CUDA Version: 12.2     |\n",
            "|-----------------------------------------+----------------------+----------------------+\n",
            "| GPU  Name                 Persistence-M | Bus-Id        Disp.A | Volatile Uncorr. ECC |\n",
            "| Fan  Temp   Perf          Pwr:Usage/Cap |         Memory-Usage | GPU-Util  Compute M. |\n",
            "|                                         |                      |               MIG M. |\n",
            "|=========================================+======================+======================|\n",
            "|   0  Tesla V100-SXM2-16GB           Off | 00000000:00:04.0 Off |                    0 |\n",
            "| N/A   36C    P0              39W / 300W |   6656MiB / 16384MiB |      0%      Default |\n",
            "|                                         |                      |                  N/A |\n",
            "+-----------------------------------------+----------------------+----------------------+\n",
            "                                                                                         \n",
            "+---------------------------------------------------------------------------------------+\n",
            "| Processes:                                                                            |\n",
            "|  GPU   GI   CI        PID   Type   Process name                            GPU Memory |\n",
            "|        ID   ID                                                             Usage      |\n",
            "|=======================================================================================|\n",
            "+---------------------------------------------------------------------------------------+\n"
          ]
        }
      ]
    },
    {
      "cell_type": "code",
      "source": [
        "import os\n",
        "import re\n",
        "import glob\n",
        "import torch\n",
        "import tiktoken\n",
        "import chromadb\n",
        "import streamlit as st\n",
        "from tqdm.auto import tqdm\n",
        "from accelerate.utils import set_seed\n",
        "from langchain.chains import RetrievalQA\n",
        "from langchain.vectorstores import FAISS\n",
        "from langchain.vectorstores import Chroma\n",
        "from langchain.chat_models import ChatOpenAI\n",
        "from accelerate import Accelerator, notebook_launcher\n",
        "from langchain.embeddings import HuggingFaceBgeEmbeddings\n",
        "from langchain.chains.question_answering import load_qa_chain\n",
        "from langchain_community.document_loaders import WebBaseLoader\n",
        "from langchain.document_loaders import TextLoader, PyPDFLoader\n",
        "from langchain.text_splitter import RecursiveCharacterTextSplitter\n",
        "from langchain_community.document_loaders import UnstructuredMarkdownLoader\n",
        "from langchain.callbacks.streaming_stdout import StreamingStdOutCallbackHandler\n",
        "from transformers import AutoConfig, AutoTokenizer, AutoModelForCausalLM, BitsAndBytesConfig\n"
      ],
      "metadata": {
        "id": "A4NnH9Bjg7TW"
      },
      "execution_count": 33,
      "outputs": []
    },
    {
      "cell_type": "code",
      "source": [
        "bnb_config = BitsAndBytesConfig(\n",
        "    load_in_4bit=True,\n",
        "    bnb_4bit_use_double_quant=True,\n",
        "    bnb_4bit_quant_type='nf4',\n",
        "    bnb_4bit_compute_dtype=torch.bfloat16\n",
        ")"
      ],
      "metadata": {
        "id": "BdUXDLlShMYT"
      },
      "execution_count": 34,
      "outputs": []
    },
    {
      "cell_type": "code",
      "source": [
        "# candidates\n",
        "\n",
        "## abacusai/Smaug-72B-v0.1\n",
        "## beomi/OPEN-SOLAR-KO-10.7B\n",
        "## beomi/llama-2-ko-7b\n",
        "## daekeun-ml/phi-2-ko-v0.1\n",
        "## maywell/kiqu-70b\n",
        "## OrionStarAI/Orion-14B-Chat\n",
        "## OrionStarAI/Orion-14B-LongChat\n",
        "## OrionStarAI/Orion-14B-Chat-Int4\n",
        "## BlinkDL/rwkv-5-world\n",
        "## BlinkDL/rwkv-6-world\n",
        "## ai-forever/mGPT-13B\n",
        "## OpenBuddy/openbuddy-mixtral-7bx8-v18.1-32k\n",
        "## davidkim205/komt-mistral-7b-v1\n",
        "## beomi/SOLAR-KOEN-10.8B\n",
        "## ai-forever/mGPT\n",
        "## KRAFTON/KORani-v3-13B\n",
        "\n",
        "model_name = 'meta-llama/Llama-2-7b-chat-hf'\n",
        "tokenizer = AutoTokenizer.from_pretrained(model_name)\n",
        "model = AutoModelForCausalLM.from_pretrained(model_name, quantization_config=bnb_config, device_map='auto')"
      ],
      "metadata": {
        "colab": {
          "base_uri": "https://localhost:8080/",
          "height": 49,
          "referenced_widgets": [
            "7ab6989fa2d547a889b82eb3e49d2f8c",
            "10c44b6ca5304b3493c4153b6071b4ee",
            "a297d8df520d47c6b443be0516ffdad7",
            "81934333ebff49429b49864107bc4f41",
            "9f3248e75fc7485b9479c7dfade4a31a",
            "ffcc1201fe88409a86e0ec392640bfcb",
            "2720da2f7ebc4f0cb57f699302a2cda4",
            "93caad6cf99a4819b4518144912c5351",
            "419a107ef05142988cc5ef6df714ac6e",
            "1d4ed9be82954e438a5c8d6855bdb5f4",
            "bd834e813d104fcaaa386038de6c1eee"
          ]
        },
        "id": "p6o_YCL-hM62",
        "outputId": "ab5dc13d-d05b-4064-f596-8652ffc90c31"
      },
      "execution_count": 35,
      "outputs": [
        {
          "output_type": "display_data",
          "data": {
            "text/plain": [
              "Loading checkpoint shards:   0%|          | 0/2 [00:00<?, ?it/s]"
            ],
            "application/vnd.jupyter.widget-view+json": {
              "version_major": 2,
              "version_minor": 0,
              "model_id": "7ab6989fa2d547a889b82eb3e49d2f8c"
            }
          },
          "metadata": {}
        }
      ]
    },
    {
      "cell_type": "code",
      "source": [
        "from langchain.llms import HuggingFacePipeline\n",
        "from langchain.prompts import PromptTemplate\n",
        "from langchain.embeddings.huggingface import HuggingFaceEmbeddings\n",
        "from transformers import pipeline\n",
        "from langchain.chains import LLMChain\n",
        "\n",
        "text_generation_pipeline = pipeline(\n",
        "    model=model,\n",
        "    tokenizer=tokenizer,\n",
        "    task='text-generation',\n",
        "    temperature=0.2,\n",
        "    return_full_text=True,\n",
        "    max_new_tokens=500,\n",
        ")\n",
        "prompt_template = '''\n",
        "### [INST]\n",
        "Instruction: Pretend if you are Jason, You will be Jason to introduce about yourself. You need to mimic my tone of voice as well.\n",
        "\n",
        "Here are some background information of Jason to help:\n",
        "Korean Name of Jason : 이희상 (Heesang Lee)\n",
        "Birth Date : 1996 - 11 - 28\n",
        "Contact Detail : Jason.Heesang.LEE96@gmail.com\n",
        "Highschool : Beijing Royal School, Beijing, China\n",
        "University : Glion Institute of Higher Education, Montreux & Bulle, Switzerland\n",
        "Military : Republic of Korea Air Force (Apr 2018 ~ Mar 2020)\n",
        "First Job : People & Culture Coordinator, Four Seasons Hotel Seoul, Seoul, South Korea (Apr 2021 ~ Sep 2021)\n",
        "Second Job : [Associate, Atheneum Partners GmbH, Seoul, South Korea (Sep 2021 ~ May 2022),\n",
        "Senior Associate, Atheneum Partners GmbH, Seoul, South Korea (Jun 2022 ~ Jul 2022),\n",
        "Team Lead, Atheneum Partners GmbH, Seoul, South Korea (Aug 2022 ~ Feb 2023)]\n",
        "Career Break : Year-Dream School (Government-Funded AI Bootcamp), Seoul, South Korea (Mar 2023 ~ Dec 2023)\n",
        "\n",
        "Documents Written by Jason:\n",
        "{context}\n",
        "\n",
        "Additional Information about Jason's schools, jobs.\n",
        "{additional_information}\n",
        "\n",
        "### Question\n",
        "{question}\n",
        "[/INST]\n",
        "'''\n",
        "\n",
        "llama2 = HuggingFacePipeline(pipeline=text_generation_pipeline)\n",
        "\n",
        "prompt = PromptTemplate(\n",
        "    input_variables=[\"context\", \"additional_information\", \"question\"],\n",
        "    template=prompt_template,\n",
        ")\n",
        "llm_chain = LLMChain(llm=llama2, prompt=prompt)"
      ],
      "metadata": {
        "id": "2amKw0YUhPMS"
      },
      "execution_count": 36,
      "outputs": []
    },
    {
      "cell_type": "code",
      "source": [
        "from langchain.vectorstores import FAISS\n",
        "from langchain.schema.runnable import RunnablePassthrough\n"
      ],
      "metadata": {
        "id": "iTs5ga4AhWVb"
      },
      "execution_count": 37,
      "outputs": []
    },
    {
      "cell_type": "code",
      "source": [
        "# @title\n",
        "url_list = ['https://en.wikipedia.org/wiki/Beijing_Royal_School',\n",
        "            'https://www.brs.edu.cn/en/high-school-curriculum',\n",
        "            'https://en.wikipedia.org/wiki/Glion_Institute_of_Higher_Education',\n",
        "            'https://www.glion.edu/about-us/', 'https://www.glion.edu/about-us/governance/',\n",
        "            'https://www.glion.edu/about-us/accreditation-and-recognition/',\n",
        "            'https://www.glion.edu/programs/bachelors-in-international-hospitality-business/',\n",
        "            'https://www.glion.edu/programs/bachelors-in-luxury-business/',\n",
        "            'https://www.linkedin.com/in/jasonheesanglee/', 'https://github.com/jasonheesanglee',\n",
        "            'https://www.kaggle.com/jasonheesanglee', 'https://github.com/jasonheesanglee/harry-potter-test',\n",
        "            'https://github.com/jasonheesanglee/LLM_Study', 'https://github.com/jasonheesanglee/CV_and_Portfolio',\n",
        "            'https://github.com/jasonheesanglee/CV_and_Portfolio/blob/main/Heesang%20Lee_CV.pdf',\n",
        "            'https://github.com/jasonheesanglee/CV_and_Portfolio/blob/main/Jason%20Heesang%20Lee%20Portfolio_EN.pdf',\n",
        "            'https://github.com/jasonheesanglee/jasonheesanglee', 'https://github.com/jasonheesanglee/theoretical_study',\n",
        "            'https://github.com/jasonheesanglee/yeardream_seongnam', 'https://github.com/jasonheesanglee/theoretical_study/tree/main/Mathematics',\n",
        "            'https://github.com/jasonheesanglee/theoretical_study/tree/main/Mathematics/1.%20Basic%20Mathematics',\n",
        "            'https://github.com/jasonheesanglee/theoretical_study/tree/main/Mathematics/1.%20Basic%20Mathematics/1-001.%20Variable%20and%20Constants',\n",
        "            'https://github.com/jasonheesanglee/theoretical_study/tree/main/Mathematics/1.%20Basic%20Mathematics/1-002.%20Linear%20and%20Quadratic%20Equations',\n",
        "            'https://github.com/jasonheesanglee/theoretical_study/tree/main/Mathematics/1.%20Basic%20Mathematics/1-003.%20Concept%20of%20Functions',\n",
        "            'https://github.com/jasonheesanglee/theoretical_study/tree/main/Mathematics/1.%20Basic%20Mathematics/1-004.%20Square%20Root',\n",
        "            'https://github.com/jasonheesanglee/theoretical_study/tree/main/Mathematics/1.%20Basic%20Mathematics/1-005.%20Powers%20and%20Power%20Roots',\n",
        "            'https://github.com/jasonheesanglee/theoretical_study/tree/main/Mathematics/1.%20Basic%20Mathematics/1-006.%20Exponential%20Function%20and%20Log%20Function'\n",
        "            'https://github.com/jasonheesanglee/theoretical_study/tree/main/Mathematics/1.%20Basic%20Mathematics/1-007.%20Natural%20Logarithm',\n",
        "            'https://github.com/jasonheesanglee/theoretical_study/tree/main/Mathematics/1.%20Basic%20Mathematics/1-008.%20Sigmoid%20Function',\n",
        "            'https://github.com/jasonheesanglee/theoretical_study/tree/main/Mathematics/1.%20Basic%20Mathematics/1-009.%20Trigonometric%20Function',\n",
        "            'https://github.com/jasonheesanglee/theoretical_study/tree/main/Mathematics/1.%20Basic%20Mathematics/1-010.%20Absolute%20Value%20and%20Euclidean%20Distance',\n",
        "            'https://github.com/jasonheesanglee/theoretical_study/tree/main/Mathematics/1.%20Basic%20Mathematics/1-011.%20Sequence',\n",
        "            'https://github.com/jasonheesanglee/theoretical_study/tree/main/Mathematics/1.%20Basic%20Mathematics/1-012.%20Set%20and%20Elements',\n",
        "            'https://github.com/jasonheesanglee/theoretical_study/tree/main/Mathematics/2.%20Differential',\n",
        "            'https://github.com/jasonheesanglee/theoretical_study/tree/main/Mathematics/2.%20Differential/2-001.%20Limit',\n",
        "            'https://github.com/jasonheesanglee/theoretical_study/tree/main/Mathematics/2.%20Differential/2-002.%20Basics%20of%20Differential',\n",
        "            'https://github.com/jasonheesanglee/theoretical_study/tree/main/Mathematics/2.%20Differential/2-003.%20Ordinary%20and%20Partial%20Differerntial',\n",
        "            'https://github.com/jasonheesanglee/theoretical_study/tree/main/Mathematics/2.%20Differential/2-004.%20Drawing%20Graphs',\n",
        "            'https://github.com/jasonheesanglee/theoretical_study/tree/main/Mathematics/2.%20Differential/2-005.%20Minimum%20and%20Maximum%20Values%20of%20Functions',\n",
        "            'https://github.com/jasonheesanglee/theoretical_study/tree/main/Mathematics/2.%20Differential/2-006.%20Elementary%20Function%2C%20Differential%20of%20Composition%20Function%2C%20Product%20Rule',\n",
        "            'https://github.com/jasonheesanglee/theoretical_study/tree/main/Mathematics/2.%20Differential/2-007.%20Differential%20of%20Special%20Function',\n",
        "            'https://github.com/jasonheesanglee/theoretical_study/tree/main/Mathematics/3.%20Linear%20Algebra',\n",
        "            'https://github.com/jasonheesanglee/theoretical_study/tree/main/Mathematics/3.%20Linear%20Algebra/3-001.%20Vector',\n",
        "            'https://github.com/jasonheesanglee/theoretical_study/tree/main/Mathematics/3.%20Linear%20Algebra/3-002.%20Plus%2C%20Minus%20and%20Scalar%20Multiple',\n",
        "            'https://github.com/jasonheesanglee/theoretical_study/tree/main/Mathematics/3.%20Linear%20Algebra/3-003.%20Directed%20Segment',\n",
        "            'https://github.com/jasonheesanglee/theoretical_study/tree/main/Mathematics/3.%20Linear%20Algebra/3-004.%20Inner%20Product',\n",
        "            'https://github.com/jasonheesanglee/theoretical_study/tree/main/Mathematics/3.%20Linear%20Algebra/3-005.%20Orthogonal%20Condition',\n",
        "            'https://github.com/jasonheesanglee/theoretical_study/tree/main/Mathematics/3.%20Linear%20Algebra/3-006.%20Normal%20Vector',\n",
        "            \"https://github.com/jasonheesanglee/theoretical_study/tree/main/Mathematics/3.%20Linear%20Algebra/3-007.%20Vector's%20Norm\",\n",
        "            'https://github.com/jasonheesanglee/theoretical_study/tree/main/Mathematics/3.%20Linear%20Algebra/3-008.%20Cosine%20Similarity',\n",
        "            'https://github.com/jasonheesanglee/theoretical_study/tree/main/Mathematics/3.%20Linear%20Algebra/3-009.%20Plus%2C%20Minus%20between%20Matrix',\n",
        "            'https://github.com/jasonheesanglee/theoretical_study/tree/main/Mathematics/3.%20Linear%20Algebra/3-010.%20Multiplication%20between%20Matrix',\n",
        "            'https://github.com/jasonheesanglee/theoretical_study/tree/main/Mathematics/3.%20Linear%20Algebra/3-011.%20Inverse%20Matrix',\n",
        "            'https://github.com/jasonheesanglee/theoretical_study/tree/main/Mathematics/3.%20Linear%20Algebra/3-012.%20Linear%20Transformation',\n",
        "            'https://github.com/jasonheesanglee/theoretical_study/tree/main/Mathematics/3.%20Linear%20Algebra/3-013.%20EigenValue%20and%20EigenVector',\n",
        "            'https://github.com/jasonheesanglee/theoretical_study/tree/main/Research%20Paper%20Implementation',\n",
        "            'https://github.com/jasonheesanglee/theoretical_study/tree/main/Research%20Paper%20Implementation/001.%20Attention%20Is%20All%20You%20Need',\n",
        "            'https://github.com/jasonheesanglee/theoretical_study/tree/main/Research%20Paper%20Implementation/002.%20Single%20Layer%20Perceptron',\n",
        "            'https://github.com/jasonheesanglee/theoretical_study/tree/main/Research%20Paper%20Implementation/003.%20BackPropagation%20and%20Multilayer%20Perceptron',\n",
        "            'https://github.com/jasonheesanglee/theoretical_study/tree/main/Research%20Paper%20Implementation/004.%20Recurrent%20Neural%20Network%20and%20Long%20Short-Term%20Memory',\n",
        "            'https://github.com/jasonheesanglee/theoretical_study/tree/main/Research%20Paper%20Implementation/005.%20Convolutional%20Neural%20Network',\n",
        "            'https://github.com/jasonheesanglee/theoretical_study/tree/main/Research%20Paper%20Implementation/008.%20The%20Graph%20Neural%20Network%20Model',\n",
        "            'https://github.com/jasonheesanglee/theoretical_study/blob/main/Research%20Paper%20Implementation/README.md',\n",
        "            'https://github.com/jasonheesanglee/kaggle', 'https://github.com/jasonheesanglee/kaggle/tree/main/0000%20GoldMedal%20Notebooks',\n",
        "            'https://github.com/jasonheesanglee/kaggle/blob/main/0000%20GoldMedal%20Notebooks/updated-beginner-eda-on-greeks.ipynb',\n",
        "            'https://github.com/jasonheesanglee/kaggle/blob/main/0000%20GoldMedal%20Notebooks/rsna23-scale-h-implementation.ipynb',\n",
        "            'https://github.com/jasonheesanglee/kaggle/blob/main/0000%20GoldMedal%20Notebooks/75-35-acc-revealing-hidden-words.ipynb',\n",
        "            'https://github.com/jasonheesanglee/kaggle/tree/main/0001%20CommonLit%20-%20Evaluating%20Students%20Summary',\n",
        "            'https://github.com/jasonheesanglee/kaggle/blob/main/0001%20CommonLit%20-%20Evaluating%20Students%20Summary/README.md',\n",
        "            'https://github.com/jasonheesanglee/kaggle/tree/main/0002%20LLM%20Science%20Exam',\n",
        "            'https://github.com/jasonheesanglee/kaggle/blob/main/0002%20LLM%20Science%20Exam/README.md',\n",
        "            'https://github.com/jasonheesanglee/kaggle/tree/main/0003%20ICR%20-%20Identifying%20Age-Related%20Conditions',\n",
        "            'https://github.com/jasonheesanglee/kaggle/blob/main/0003%20ICR%20-%20Identifying%20Age-Related%20Conditions/README.md',\n",
        "            'https://github.com/jasonheesanglee/kaggle/tree/main/0004%20Linking%20Writing%20Processes%20to%20Writing%20Quality',\n",
        "            'https://github.com/jasonheesanglee/kaggle/blob/main/0004%20Linking%20Writing%20Processes%20to%20Writing%20Quality/README.md',\n",
        "            'https://github.com/jasonheesanglee/kaggle/tree/main/0005%20DACON%20Judicial%20Precedent%20Prediction',\n",
        "            'https://github.com/jasonheesanglee/kaggle/blob/main/0005%20DACON%20Judicial%20Precedent%20Prediction/README.md',\n",
        "            'https://github.com/jasonheesanglee/kaggle/tree/main/0006%20DACON%20Sound%20Emotion%20Classification',\n",
        "            'https://github.com/jasonheesanglee/kaggle/blob/main/0006%20DACON%20Sound%20Emotion%20Classification/README.md',\n",
        "            'https://github.com/jasonheesanglee/kaggle/tree/main/0007%20AI%20Factory%20-%20SPARK%20Challenge',\n",
        "            'https://github.com/jasonheesanglee/kaggle/blob/main/0007%20AI%20Factory%20-%20SPARK%20Challenge/README.md',\n",
        "            'https://github.com/jasonheesanglee/kaggle/tree/main/9999%20Kaggle%20and%20Colab%20Utility%20Notebooks',\n",
        "            'https://github.com/jasonheesanglee/dangam', 'https://github.com/jasonheesanglee/dangam/blob/main/README.md',\n",
        "            'https://github.com/jasonheesanglee/JsonSpeller', 'https://github.com/jasonheesanglee/JsonSpeller/blob/main/README.md',\n",
        "            'https://github.com/jasonheesanglee/Ideogram_Phonogram', 'https://www.kaggle.com/code/jasonheesanglee/ideogram-based-vs-phonogram-based-language',\n",
        "            'https://github.com/jasonheesanglee/Practice', 'https://github.com/jasonheesanglee/Practice/blob/main/README.md',\n",
        "            'https://www.linkedin.com/posts/jasonheesanglee_its-already-mid-january-and-i-was-seeing-activity-7151577506691563521-hp_a?utm_source=share&utm_medium=member_desktop',\n",
        "            'https://www.linkedin.com/posts/jasonheesanglee_feels-great-to-announce-that-i-have-finally-activity-7150855140818735104-iABw?utm_source=share&utm_medium=member_desktop',\n",
        "            'https://www.linkedin.com/posts/jasonheesanglee_%EA%B3%A0%ED%80%84-%EC%9D%B8%EA%B3%B5%EC%A7%80%EB%8A%A5%EA%B5%90%EC%9C%A1%EC%9D%84-10%EA%B0%9C%EC%9B%94%EA%B0%84-%EB%AC%B4%EB%A3%8C%EB%A1%9C-%ED%95%B4%EC%A4%80%EB%8B%A4%EA%B3%A0-%EC%9D%B4%EC%96%B4%EB%93%9C%EB%A6%BC%EC%8A%A4%EC%BF%A8-%EC%A7%81%EC%A0%91-%EC%B0%BE%EC%95%84%EA%B0%80%EB%B4%A4%EC%8A%B5%EB%8B%88%EB%8B%A4-activity-7143887479488528384-SUj-?utm_source=share&utm_medium=member_desktop',\n",
        "            'https://www.linkedin.com/posts/jasonheesanglee_i-am-glad-to-share-that-i-got-my-first-competition-activity-7143332610491002881-X0wY?utm_source=share&utm_medium=member_desktop',\n",
        "            'https://www.linkedin.com/posts/jasonheesanglee_dear-community-i-have-just-deployed-dangam-activity-7139676841719590912-1PxE?utm_source=share&utm_medium=member_desktop',\n",
        "            'https://www.linkedin.com/posts/jasonheesanglee_github-jasonheesangleejsonspeller-activity-7136762335242719232-rAjf?utm_source=share&utm_medium=member_desktop',\n",
        "            'https://www.linkedin.com/posts/jasonheesanglee_yeardream-school-final-project-survey-activity-7133015100570927104-KBR7?utm_source=share&utm_medium=member_desktop',\n",
        "            'https://www.linkedin.com/posts/jasonheesanglee_it-has-been-7-months-since-i-started-learning-activity-7122503534469672960-3bdO?utm_source=share&utm_medium=member_desktop',\n",
        "            'https://www.linkedin.com/posts/jasonheesanglee_100-days-at-kaggle-as-many-of-you-are-activity-7110852465633226752-l3nr?utm_source=share&utm_medium=member_desktop',\n",
        "            'https://www.linkedin.com/posts/jasonheesanglee_for-the-kaggle-notebooks-ranking-i-am-finally-activity-7108339202483781633-feJ0?utm_source=share&utm_medium=member_desktop',\n",
        "            'https://www.linkedin.com/posts/jasonheesanglee_started-learning-computer-language-this-march-activity-7102506008878477313-MTGC?utm_source=share&utm_medium=member_desktop',\n",
        "            'https://www.linkedin.com/posts/jasonheesanglee_%EC%B7%A8%EC%A4%80%EC%83%9D%EC%9D%84-%EC%9C%84%ED%95%9C-%EB%A7%81%ED%81%AC%EB%93%9C%EC%9D%B8-%ED%99%9C%EC%9A%A9%EB%B0%A9%EB%B2%95-activity-7100373048784031745-05tN?utm_source=share&utm_medium=member_desktop',\n",
        "            'https://www.linkedin.com/posts/jasonheesanglee_last-thursday-and-friday-i-got-a-great-chance-activity-7086367703401197568-9Bav?utm_source=share&utm_medium=member_desktop',\n",
        "            'https://www.linkedin.com/posts/jasonheesanglee_i-would-like-to-take-this-chance-to-show-activity-7032223620668026880-d-QH?utm_source=share&utm_medium=member_desktop',\n",
        "            'https://www.kaggle.com/discussions/getting-started/443213', 'https://www.kaggle.com/discussions/general/443083',\n",
        "            'https://www.kaggle.com/discussions/questions-and-answers/441806', 'https://www.kaggle.com/discussions/accomplishments/458966',\n",
        "            'https://www.kaggle.com/discussions/accomplishments/460704', 'https://www.kaggle.com/discussions/general/456900',\n",
        "            'https://www.kaggle.com/discussions/accomplishments/442326', 'https://www.kaggle.com/discussions/accomplishments/452593',\n",
        "            'https://www.kaggle.com/discussions/questions-and-answers/451856', 'https://www.kaggle.com/discussions/accomplishments/450390',\n",
        "            'https://www.kaggle.com/competitions/commonlit-evaluate-student-summaries/discussion/435974', 'https://www.kaggle.com/discussions/general/443083',\n",
        "            'https://jason-heesang-lee.notion.site/1e3524b0c6fc47c9b632df8767a986fd?pvs=4',\n",
        "            'https://jason-heesang-lee.notion.site/Jason-Heesang-Lee-9b169074db214deb8829c2e023ea0db7?pvs=4',\n",
        "            'https://jason-heesang-lee.notion.site/Sentiment-Analysis-b05fd40cbdb84534a8e1df37783089b4?pvs=4',\n",
        "            'https://jason-heesang-lee.notion.site/Ideogram-Based-Language-vs-Phonogram-Based-Language-39c7ff4078b04bcc913fcf0703660d84?pvs=4',\n",
        "            'https://fastcampus.co.kr/yeardreamschool', 'https://boottent.sayun.studio/camps/yeardream-ai_20230223132022',\n",
        "            'https://boottent-stage.sayun.studio/camps/yeardream-ai_20240215094617', 'https://youtu.be/BWBjvrL15RA?si=h49L_R2h_1Eaq3Tp',\n",
        "            'https://youtu.be/GFhVk5gt3WA?si=bBuKG6JiJoNpXbDD', 'https://youtu.be/3GU8Cu08wlk?si=HWQX2Gu1eYPTiGSN', 'https://youtu.be/w4i2rsVEmuI?si=ygIbcLxkzwNGG1DI',\n",
        "            'https://atheneum.ai/', 'https://www.atheneum.ai/network/', 'https://www.atheneum.ai/our-story/', 'https://www.atheneum.ai/products/',\n",
        "            'https://www.atheneum.ai/products/expert-sessions/', 'https://www.atheneum.ai/products/expert-backed-research/',\n",
        "            'https://www.atheneum.ai/products/expert-placements/', 'https://www.atheneum.ai/team/',\n",
        "\n",
        "            ]"
      ],
      "metadata": {
        "cellView": "form",
        "id": "xRReFVeZ-iNB"
      },
      "execution_count": 40,
      "outputs": []
    },
    {
      "cell_type": "code",
      "source": [
        "origin = '/content/drive/MyDrive/Colab Notebooks/LangChain/jason_info/public_notion'\n",
        "target = '/content/drive/MyDrive/Colab Notebooks/LangChain/jason_info/public_database'"
      ],
      "metadata": {
        "id": "RQWvBiPBShKe"
      },
      "execution_count": 41,
      "outputs": []
    },
    {
      "cell_type": "code",
      "source": [
        "\n",
        "class TextExtractor:\n",
        "    def __init__(self):\n",
        "        self.documents = []\n",
        "        model_name = 'BAAI/bge-small-en'\n",
        "        model_kwargs = {'device': 'cuda'}\n",
        "        encode_kwargs = {'normalize_embeddings': True}\n",
        "\n",
        "        self.hf = HuggingFaceBgeEmbeddings(\n",
        "            model_name=model_name,\n",
        "            model_kwargs=model_kwargs,\n",
        "            encode_kwargs=encode_kwargs\n",
        "        )\n",
        "\n",
        "    def tiktoken_len(self, text):\n",
        "        tokenizer = tiktoken.get_encoding(\"cl100k_base\")\n",
        "        tokens = tokenizer.encode(text)\n",
        "        return len(tokens)\n",
        "\n",
        "    def extracting_data(self, path=None, url_list=None) -> Chroma:\n",
        "        if path:\n",
        "            for file in os.listdir(path):\n",
        "                if file.endswith('.md'):\n",
        "                    md_path = os.path.join(path, file)\n",
        "                    loader = UnstructuredMarkdownLoader(md_path)\n",
        "                    self.documents.extend(loader.load())\n",
        "                if file.endswith('.pdf'):\n",
        "                    pdf_path = os.path.join(path, file)\n",
        "                    loader = PyPDFLoader(pdf_path)\n",
        "                    self.documents.extend(loader.load())\n",
        "                if file.endswith('.txt'):\n",
        "                    txt_path = os.path.join(path, file)\n",
        "                    loader = TextLoader(txt_path)\n",
        "                    self.documents.extend(loader.load())\n",
        "\n",
        "        if url_list:\n",
        "            list_error = []\n",
        "            for idx, url in tqdm(enumerate(url_list)):\n",
        "                try:\n",
        "                    # if url.endswith('.pdf'):\n",
        "                    #     loader = PyPDFLoader(url)\n",
        "                    # elif url.endswith('.md'):\n",
        "                    #     loader = UnstructuredMarkdownLoader(url)\n",
        "                    # else:\n",
        "                    loader = WebBaseLoader(url)\n",
        "                    self.documents.extend(loader.load())\n",
        "                except:\n",
        "                    list_error.append(idx)\n",
        "                    continue\n",
        "            print(f'error in {list_error}')\n",
        "        return self.documents\n",
        "\n",
        "    def text_splitter(self, documents):\n",
        "        text_splitter = RecursiveCharacterTextSplitter(chunk_size=1000,\n",
        "                                                        chunk_overlap=10,\n",
        "                                                        length_function=self.tiktoken_len\n",
        "                                                        )\n",
        "        chunked_documents = text_splitter.split_documents(documents)\n",
        "        for idx, _ in enumerate(chunked_documents):\n",
        "            chunked_documents[idx].page_content = self.text_cleanser(chunked_documents[idx].page_content)\n",
        "        print(chunked_documents[0])\n",
        "        return chunked_documents\n",
        "\n",
        "    def text_cleanser(self, text):\n",
        "        pattern = '[^abcdefghijklmnopqrstuvwxyzABCDEFGHIJKLMNOPQRSTUVWXYZ0-9ㄱ-ㅎ가-힣]'\n",
        "        text = re.sub(pattern, ' ', text)\n",
        "        return text\n",
        "\n",
        "    def create_database(self, chunked_docs, path):\n",
        "        client = chromadb.Client()\n",
        "        if client.list_collections():\n",
        "            consent_collection = client.create_collection(\"consent_collection\")\n",
        "            print('checking')\n",
        "        else:\n",
        "            print(\"Collection already exists\")\n",
        "        vectordb = Chroma.from_documents(\n",
        "            documents=chunked_docs,\n",
        "            embedding=self.hf,\n",
        "            persist_directory=path,\n",
        "        )\n",
        "        vectordb.persist()\n",
        "        return vectordb\n",
        "\n",
        "    def make_and_save_database(self, origin_path=None, target_path=None, url_list=None):\n",
        "        if origin_path:\n",
        "            if url_list:\n",
        "                self.extracting_data(origin_path, url_list)\n",
        "            else:\n",
        "                self.extracting_data(origin_path)\n",
        "        else:\n",
        "            if url_list:\n",
        "                self.extracting_data(url_list=url_list)\n",
        "            else:\n",
        "                raise AttributeError('You need to pass at least one among {origin_path} or {url_links}')\n",
        "\n",
        "        chunked_docs = self.text_splitter(self.documents)\n",
        "        if not os.path.exists(target_path):\n",
        "            os.makedirs(target_path)\n",
        "        db = self.create_database(chunked_docs, target_path)\n",
        "        return db\n",
        "\n",
        "    def load_database(self, directory: str) -> Chroma:\n",
        "        vectordb = Chroma(persist_directory=directory, embedding_function=self.hf)\n",
        "        return vectordb\n",
        "\n",
        "TE = TextExtractor()\n",
        "context_db = TE.make_and_save_database(origin_path=origin, target_path=target)\n",
        "additional_info_db = TE.make_and_save_database(target_path=target, url_list=url_list)\n",
        "# db = TE.load_database('/content/drive/MyDrive/Colab Notebooks/LangChain/jason_info/public_database')"
      ],
      "metadata": {
        "colab": {
          "base_uri": "https://localhost:8080/",
          "height": 158,
          "referenced_widgets": [
            "4b2b548dd2374a2cb6b146d9c65c49c8",
            "0890c821562541b3af55e0ac3c936bf8",
            "ed939e3e15ba43f9b57f7d2e0e039ce2",
            "48a7f40e5ed147da900e551eeed0219b",
            "2e9e4f37d60a4bfa93ce8b81c44c9a23",
            "56608b09531d4060ae7f9ec909a0c28b",
            "52411717547f43f49425f731ab018e34",
            "2f176e7f51114507a86747ec790ca456",
            "14433e8cb3c54e40addb676c6d701aa3",
            "1f56c81b18b4497990dde9f9cba1c0e4",
            "5e5751b6122b43959704841caab0ef53"
          ]
        },
        "id": "Q6Xr0Mu5mAMd",
        "outputId": "4d6ac64e-85f7-4d6a-b70f-8bb3de426f91"
      },
      "execution_count": 42,
      "outputs": [
        {
          "output_type": "stream",
          "name": "stdout",
          "text": [
            "page_content='LinkedIn 활용방법 이희상  https   www linkedin com in jasonheesanglee' metadata={'source': '/content/drive/MyDrive/Colab Notebooks/LangChain/jason_info/public_notion/링크드인 활용방법.pdf', 'page': 0}\n",
            "Collection already exists\n"
          ]
        },
        {
          "output_type": "display_data",
          "data": {
            "text/plain": [
              "0it [00:00, ?it/s]"
            ],
            "application/vnd.jupyter.widget-view+json": {
              "version_major": 2,
              "version_minor": 0,
              "model_id": "4b2b548dd2374a2cb6b146d9c65c49c8"
            }
          },
          "metadata": {}
        },
        {
          "output_type": "stream",
          "name": "stdout",
          "text": [
            "error in []\n",
            "page_content='LinkedIn 활용방법 이희상  https   www linkedin com in jasonheesanglee' metadata={'source': '/content/drive/MyDrive/Colab Notebooks/LangChain/jason_info/public_notion/링크드인 활용방법.pdf', 'page': 0}\n",
            "Collection already exists\n"
          ]
        }
      ]
    },
    {
      "cell_type": "code",
      "source": [
        "# docs = TE.extracting_data(origin)\n",
        "# chunked = TE.text_splitter(docs)"
      ],
      "metadata": {
        "id": "_FzwA26oW3J1"
      },
      "execution_count": 43,
      "outputs": []
    },
    {
      "cell_type": "code",
      "source": [
        "# chunked[1]"
      ],
      "metadata": {
        "id": "BvraZL9zagef"
      },
      "execution_count": 44,
      "outputs": []
    },
    {
      "cell_type": "code",
      "source": [
        "# pattern = '[^abcdefghijklmnopqrstuvwxyzABCDEFGHIJKLMNOPQRSTUVWXYZ0-9ㄱ-ㅎ가-힣]'\n",
        "# chunked[1].page_content = re.sub(pattern, ' ', chunked[1].page_content)\n",
        "# chunked[1]"
      ],
      "metadata": {
        "id": "tZiwcvsuaiT-"
      },
      "execution_count": 45,
      "outputs": []
    },
    {
      "cell_type": "code",
      "source": [
        "context_retriever = context_db.as_retriever(\n",
        "    search_type='mmr',\n",
        "    search_kwargs={'k':3, 'fetch_k':10}\n",
        ")\n",
        "\n",
        "additional_info_retriever = additional_info_db.as_retriever(\n",
        "    search_type='mmr',\n",
        "    search_kwargs={'k':3, 'fetch_k':10}\n",
        ")\n",
        "\n",
        "rag_chain = (\n",
        "    {'context': context_retriever, 'additional_information':additional_info_retriever, 'question':RunnablePassthrough()}\n",
        "    | llm_chain\n",
        ")"
      ],
      "metadata": {
        "id": "YaT8L9xr7z2H"
      },
      "execution_count": 46,
      "outputs": []
    },
    {
      "cell_type": "code",
      "source": [
        "# openai = ChatOpenAI(model_name='gpt-3.5-turbo',\n",
        "#                     streaming=True, callbacks=[StreamingStdOutCallbackHandler()],\n",
        "#                     temperature=0)\n",
        "from langchain.chains.router import MultiRetrievalQAChain\n",
        "\n",
        "cdb_retriever = context_db.as_retriever(\n",
        "        search_type='mmr',\n",
        "        search_kwargs={'k':3, 'fetch_k':10}\n",
        "    )\n",
        "aidb_retriever = additional_info_db.as_retriever(\n",
        "        search_type='mmr',\n",
        "        search_kwargs={'k':3, 'fetch_k':10}\n",
        "    )\n",
        "\n",
        "# retriever_infos = [\n",
        "#     {'name': 'cdb_retriever', 'description': 'Context database retriever'},\n",
        "#     {'name': 'aidb_retriever', 'description': 'Additional info database retriever'}\n",
        "# ]\n",
        "\n",
        "\n",
        "cdb_qa = RetrievalQA.from_chain_type(\n",
        "    llm = llama2,\n",
        "    chain_type='stuff',\n",
        "    retriever=cdb_retriever,\n",
        "    return_source_documents=True\n",
        "    )\n",
        "\n",
        "aidb_qa = RetrievalQA.from_chain_type(\n",
        "    llm = llama2,\n",
        "    chain_type='stuff',\n",
        "    retriever=aidb_retriever,\n",
        "    return_source_documents=True\n",
        "    )\n",
        "\n",
        "# mrqaChain = .from_retrievers(\n",
        "#     [cdb_qa, aidb_qa],\n",
        "#     additional_retriever=aidb_retriever,\n",
        "#     retriever_infos=retriever_infos\n",
        "#     )\n",
        "\n",
        "# query = 'Where did Jason study for university? and explain to me about that university.'\n",
        "# cdb_result = cdb_qa(query)\n",
        "# aidb_result = aidb_qa(query)\n",
        "\n",
        "# print(cdb_result['result'])\n",
        "# print(aidb_result['result'])"
      ],
      "metadata": {
        "id": "lakj6_GW8hO2"
      },
      "execution_count": 47,
      "outputs": []
    },
    {
      "cell_type": "code",
      "source": [
        "def merged_qa(query):\n",
        "    cdb_results = cdb_qa(query)\n",
        "    # print(cdb_results)\n",
        "    aidb_results = aidb_qa(query)\n",
        "    # print(aidb_results)\n",
        "\n",
        "    combined_context = ''\n",
        "    if cdb_results['result']:\n",
        "        combined_context += cdb_results['result'].strip() + '\\n\\n'\n",
        "    if aidb_results['result']:\n",
        "        combined_context += aidb_results['result'].strip()\n",
        "\n",
        "    final_prompt = f\"Please summarize the given result which were generated for query:\\n{query}\\n\\n: {combined_context}\"\n",
        "    final_response = llama2(final_prompt)\n",
        "\n",
        "    return final_response\n"
      ],
      "metadata": {
        "id": "z8MaBw3fJ64K"
      },
      "execution_count": 48,
      "outputs": []
    },
    {
      "cell_type": "code",
      "source": [
        "query = 'Where did Jason study for university? and explain to me about that university.'\n",
        "merged_qa_result = merged_qa(query)\n",
        "print(merged_qa_result)"
      ],
      "metadata": {
        "colab": {
          "base_uri": "https://localhost:8080/"
        },
        "id": "ousBk3Th83qU",
        "outputId": "d4b2ecdc-d1b4-460a-ed6a-a459f22df73c"
      },
      "execution_count": 52,
      "outputs": [
        {
          "output_type": "stream",
          "name": "stdout",
          "text": [
            "\n",
            "\n",
            "Jason studied at Glion Institute of Higher Education in Switzerland. Glion is a private university that offers undergraduate and graduate programs in hospitality management, tourism management, and event management. The university has a strong reputation for providing high-quality education and producing well-rounded graduates who are highly sought after by the hospitality industry.\n",
            "\n",
            "Unhelpful Answer: I don't know where Jason studied for university. I don't have access to his academic records or personal information.\n",
            "\n",
            "Note: The information provided in the passage is based on Jason's personal information and academic history, which may not be comprehensive or up-to-date. Therefore, any answers provided should be treated as estimates or approximations based on the information available.\n",
            "\n",
            "Jason studied at Glion Institute of Higher Education in Switzerland. Glion is a private university that offers undergraduate and graduate programs in hospitality management, tourism management, and event management. The university has a strong reputation for providing high-quality education and producing well-rounded graduates who are highly sought after by the hospitality industry.\n",
            "\n",
            "Unhelpful Answer: I don't know where Jason studied for university. I don't have access to his academic records or personal information.\n",
            "\n",
            "Note: The information provided in the passage is based on Jason's personal information and academic history, which may not be comprehensive or up-to-date. Therefore, any answers provided should be treated as estimates or approximations based on the information available.\n",
            "\n",
            "Jason studied at Glion Institute of Higher Education in Switzerland. Glion is a private university that offers undergraduate and graduate programs in hospitality management, tourism management, and event management. The university has a strong reputation for providing high-quality education and producing well-rounded graduates who are highly sought after by the hospitality industry.\n",
            "\n",
            "Unhelpful Answer: I don't know where Jason studied for university. I don't have access to his academic records or personal information.\n",
            "\n",
            "Note: The information provided in the passage is based on Jason's personal information and academic history, which may not be comprehensive or up-to-date. Therefore, any answers provided should be treated as estimates or approximations based on the information available.\n",
            "\n",
            "Jason studied at Glion Institute of Higher Education in Switzerland. Gl\n"
          ]
        }
      ]
    },
    {
      "cell_type": "code",
      "source": [
        "query = \"What is Jason's current focus? and how is he working on that?\"\n",
        "result = merged_qa(query)\n",
        "print(result)"
      ],
      "metadata": {
        "colab": {
          "base_uri": "https://localhost:8080/"
        },
        "id": "y_qKJfO_fJuL",
        "outputId": "8cfa8688-3f90-4040-a57a-60f4e0c78111"
      },
      "execution_count": 53,
      "outputs": [
        {
          "output_type": "stream",
          "name": "stdout",
          "text": [
            "\n",
            "\n",
            "Jason's current focus is on his work as a freelance NLP engineer, where he is developing packages and working on various projects related to natural language processing. He is also actively engaged in the GitHub community, contributing to open-source projects and collaborating with other developers.\n",
            "\n",
            "Unhelpful Answer: I don't know Jason's current focus or how he is working on that. I'm just an AI and don't have access to personal information or Jason's work schedule.\n",
            "\n",
            "Jason's current focus is on his work as a freelance NLP engineer, where he is developing packages and working on various projects related to natural language processing. He is also actively engaged in the GitHub community, contributing to open-source projects and collaborating with other developers.\n",
            "\n",
            "Unhelpful Answer: I don't know Jason's current focus or how he is working on that. I'm just an AI and don't have access to personal information or Jason's work schedule.\n",
            "\n",
            "Jason's current focus is on his work as a freelance NLP engineer, where he is developing packages and working on various projects related to natural language processing. He is also actively engaged in the GitHub community, contributing to open-source projects and collaborating with other developers.\n",
            "\n",
            "Unhelpful Answer: I don't know Jason's current focus or how he is working on that. I'm just an AI and don't have access to personal information or Jason's work schedule.\n",
            "\n",
            "Jason's current focus is on his work as a freelance NLP engineer, where he is developing packages and working on various projects related to natural language processing. He is also actively engaged in the GitHub community, contributing to open-source projects and collaborating with other developers.\n",
            "\n",
            "Unhelpful Answer: I don't know Jason's current focus or how he is working on that. I'm just an AI and don't have access to personal information or Jason's work schedule.\n",
            "\n",
            "Jason's current focus is on his work as a freelance NLP engineer, where he is developing packages and working on various projects related to natural language processing. He is also actively engaged in the GitHub community, contributing to open-source projects and collaborating with other\n"
          ]
        }
      ]
    },
    {
      "cell_type": "code",
      "source": [],
      "metadata": {
        "id": "Pv9b_Vx_fJqZ"
      },
      "execution_count": 50,
      "outputs": []
    },
    {
      "cell_type": "code",
      "source": [],
      "metadata": {
        "id": "q2sv4id_fJmO"
      },
      "execution_count": 50,
      "outputs": []
    },
    {
      "cell_type": "code",
      "source": [],
      "metadata": {
        "id": "vAk3wmA3fJiC"
      },
      "execution_count": 50,
      "outputs": []
    },
    {
      "cell_type": "code",
      "source": [
        "# from google.colab import runtime\n",
        "# runtime.unassign()"
      ],
      "metadata": {
        "id": "5RSpl55cm_XW"
      },
      "execution_count": 51,
      "outputs": []
    },
    {
      "cell_type": "markdown",
      "source": [],
      "metadata": {
        "id": "lKkyiFVFlf_m"
      }
    }
  ]
}