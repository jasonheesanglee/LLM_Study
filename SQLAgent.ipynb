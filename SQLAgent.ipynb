{
  "nbformat": 4,
  "nbformat_minor": 0,
  "metadata": {
    "colab": {
      "provenance": [],
      "authorship_tag": "ABX9TyPuWsTNkmMNKWljDoC1GYBz",
      "include_colab_link": true
    },
    "kernelspec": {
      "name": "python3",
      "display_name": "Python 3"
    },
    "language_info": {
      "name": "python"
    }
  },
  "cells": [
    {
      "cell_type": "markdown",
      "metadata": {
        "id": "view-in-github",
        "colab_type": "text"
      },
      "source": [
        "<a href=\"https://colab.research.google.com/github/jasonheesanglee/LLM_Study/blob/main/SQLAgent.ipynb\" target=\"_parent\"><img src=\"https://colab.research.google.com/assets/colab-badge.svg\" alt=\"Open In Colab\"/></a>"
      ]
    },
    {
      "cell_type": "markdown",
      "source": [
        "## 사용 사례\n",
        "\n",
        "엔터프라이즈 데이터는 종종 SQL 데이터베이스에 저장됩니다.\n",
        "\n",
        "LLM을 사용하면 자연어를 사용하여 SQL 데이터베이스와 상호 작용할 수 있습니다.\n",
        "\n",
        "LangChain은 자연어 프롬프트를 기반으로 SQL 쿼리를 작성하고 실행할 수 있는 SQL 체인 및 에이전트를 제공합니다.\n",
        "\n",
        "이들은 SQLAlchemy에서 지원하는 모든 SQL 언어(예: MySQL, PostgreSQL, Oracle SQL, Databricks, SQLite)와 호환됩니다.\n",
        "\n",
        "다음과 같은 사용 사례를 지원합니다:\n",
        "\n",
        "- 자연어 질문을 기반으로 실행할 쿼리 생성\n",
        "- 데이터베이스 데이터를 기반으로 질문에 답변할 수 있는 챗봇 만들기\n",
        "- 사용자가 분석하고자 하는 인사이트를 기반으로 사용자 지정 대시보드 구축\n",
        "\n",
        "## 개요\n",
        "\n",
        "LangChain은 SQL 데이터베이스와 상호 작용할 수 있는 도구를 제공합니다:\n",
        "\n",
        "1. 자연어 사용자 질문을 기반으로 'SQL 쿼리 작성'\n",
        "2. 쿼리 생성 및 실행을 위해 체인을 사용하여 'SQL 데이터베이스 쿼리'를 수행합니다.\n",
        "3. 강력하고 유연한 쿼리를 위해 에이전트를 사용하여 'SQL 데이터베이스와 상호작용하기'\n",
        "\n",
        "## 빠른 시작\n",
        "\n",
        "먼저 필요한 패키지를 가져오고 환경 변수를 설정합니다:"
      ],
      "metadata": {
        "id": "7zDwUZVfHTmp"
      }
    },
    {
      "cell_type": "code",
      "execution_count": null,
      "metadata": {
        "id": "UTIrd9icDwaC"
      },
      "outputs": [],
      "source": [
        "! pip install -qqq langchain langchain-experimental openai tiktoken cohere\n",
        "\n",
        "import os\n",
        "import openai\n",
        "from google.colab import userdata\n",
        "os.environ[\"OPENAI_API_KEY\"] = userdata.get('OpenAI_API')"
      ]
    },
    {
      "cell_type": "markdown",
      "source": [
        "아래 예는 Chinook DB와의 SQLite 연결을 수행합니다.\n",
        "\n",
        "* [이 파일](https://www.sqlitetutorial.net/sqlite-sample-database/)을 디렉터리에 `Chinook_Sqlite.sql`로 저장합니다.\n",
        "* `sqlite3 Chinook.db`를 실행합니다.\n",
        "* `.read Chinook_Sqlite.sql` 실행\n",
        "* 테스트 `SELECT * FROM Artist LIMIT 10;`\n",
        "\n",
        "이제 `Chinhook.db`가 디렉토리에 있습니다.\n",
        "\n",
        "SQL 쿼리를 생성하고 실행하기 위해 `SQLDatabaseChain`을 생성해 보겠습니다."
      ],
      "metadata": {
        "id": "pJI627GWHZSP"
      }
    },
    {
      "cell_type": "code",
      "source": [
        "import shutil\n",
        "from google.colab import drive\n",
        "drive.mount('/content/drive')\n"
      ],
      "metadata": {
        "colab": {
          "base_uri": "https://localhost:8080/"
        },
        "id": "cNkxlqV1HgBQ",
        "outputId": "53c5dc42-2840-464c-ad79-cfa87c8e1352"
      },
      "execution_count": 29,
      "outputs": [
        {
          "output_type": "stream",
          "name": "stdout",
          "text": [
            "Mounted at /content/drive\n"
          ]
        }
      ]
    },
    {
      "cell_type": "code",
      "source": [
        "shutil.copyfile(src='/content/drive/MyDrive/Colab Notebooks/LangChain/chinook.db', dst='/content/chinook.db')"
      ],
      "metadata": {
        "colab": {
          "base_uri": "https://localhost:8080/",
          "height": 35
        },
        "id": "pCWb5ocBHtcx",
        "outputId": "c308f73a-e041-44fb-89d9-992aab69854d"
      },
      "execution_count": 33,
      "outputs": [
        {
          "output_type": "execute_result",
          "data": {
            "text/plain": [
              "'/content/chinook.db'"
            ],
            "application/vnd.google.colaboratory.intrinsic+json": {
              "type": "string"
            }
          },
          "metadata": {},
          "execution_count": 33
        }
      ]
    },
    {
      "cell_type": "code",
      "source": [
        "import warnings\n",
        "warnings.filterwarnings(\"ignore\")\n",
        "warnings.simplefilter(\"ignore\")\n",
        "warnings.filterwarnings(\"ignore\", category=DeprecationWarning)\n",
        "warnings.filterwarnings(\"ignore\", category=FutureWarning)\n",
        "warnings.filterwarnings(\"ignore\", category=UserWarning)\n",
        "warnings.filterwarnings(\"ignore\", category=RuntimeWarning)\n",
        "\n",
        "import logging\n",
        "logging.disable(logging.CRITICAL)\n",
        "logging.disable(logging.WARNING)\n",
        "logging.disable(logging.INFO)\n",
        "logging.disable(logging.DEBUG)\n",
        "\n",
        "\n",
        "from langchain.llms import OpenAI\n",
        "from langchain.utilities import SQLDatabase\n",
        "from langchain_experimental.sql import SQLDatabaseChain\n",
        "\n",
        "db = SQLDatabase.from_uri(\"sqlite:///chinook.db\")\n",
        "llm = OpenAI(temperature=0, verbose=True)\n",
        "db_chain = SQLDatabaseChain.from_llm(llm, db, verbose=True)"
      ],
      "metadata": {
        "id": "doS7uwzxD5Pt"
      },
      "execution_count": 34,
      "outputs": []
    },
    {
      "cell_type": "code",
      "source": [
        "db_chain.run(\"몇명의 직원이 있어?\")"
      ],
      "metadata": {
        "colab": {
          "base_uri": "https://localhost:8080/",
          "height": 178
        },
        "id": "LoLUHeUoEFB4",
        "outputId": "bd05eb6a-195d-4b90-84d1-97e69234c5e2"
      },
      "execution_count": 35,
      "outputs": [
        {
          "output_type": "stream",
          "name": "stdout",
          "text": [
            "\n",
            "\n",
            "\u001b[1m> Entering new SQLDatabaseChain chain...\u001b[0m\n",
            "몇명의 직원이 있어?\n",
            "SQLQuery:\u001b[32;1m\u001b[1;3mSELECT COUNT(*) FROM employees\u001b[0m\n",
            "SQLResult: \u001b[33;1m\u001b[1;3m[(8,)]\u001b[0m\n",
            "Answer:\u001b[32;1m\u001b[1;3m8\u001b[0m\n",
            "\u001b[1m> Finished chain.\u001b[0m\n"
          ]
        },
        {
          "output_type": "execute_result",
          "data": {
            "text/plain": [
              "'8'"
            ],
            "application/vnd.google.colaboratory.intrinsic+json": {
              "type": "string"
            }
          },
          "metadata": {},
          "execution_count": 35
        }
      ]
    },
    {
      "cell_type": "markdown",
      "source": [
        "## Case 1: Text-to-SQL query"
      ],
      "metadata": {
        "id": "d6Ee25TtEpl_"
      }
    },
    {
      "cell_type": "code",
      "source": [
        "from langchain.chains import create_sql_query_chain\n",
        "from langchain.chat_models import ChatOpenAI"
      ],
      "metadata": {
        "id": "udYZeqlaEGrk"
      },
      "execution_count": 11,
      "outputs": []
    },
    {
      "cell_type": "markdown",
      "source": [
        "SQL 쿼리를 작성할 체인을 만들어 보겠습니다:"
      ],
      "metadata": {
        "id": "VtFPGtCLF-A0"
      }
    },
    {
      "cell_type": "code",
      "source": [
        "chain = create_sql_query_chain(ChatOpenAI(temperature=0), db)\n",
        "response = chain.invoke({\"question\": \"How many employees are there\"})\n",
        "print(response)"
      ],
      "metadata": {
        "colab": {
          "base_uri": "https://localhost:8080/"
        },
        "id": "egdM-jr4EHRU",
        "outputId": "ba2662bb-2dc6-448d-9abf-469770c0a7fb"
      },
      "execution_count": 12,
      "outputs": [
        {
          "output_type": "stream",
          "name": "stdout",
          "text": [
            "SELECT COUNT(*) FROM employees\n"
          ]
        }
      ]
    },
    {
      "cell_type": "markdown",
      "source": [
        "사용자 질문을 기반으로 SQL 쿼리를 작성하고 나면 쿼리를 실행할 수 있습니다:"
      ],
      "metadata": {
        "id": "WGspGsq1GA0u"
      }
    },
    {
      "cell_type": "code",
      "source": [
        "db.run(response)"
      ],
      "metadata": {
        "colab": {
          "base_uri": "https://localhost:8080/",
          "height": 35
        },
        "id": "hbky8-W_EHUK",
        "outputId": "a9eaa1e7-525d-4a93-80fb-9bd29560106a"
      },
      "execution_count": 13,
      "outputs": [
        {
          "output_type": "execute_result",
          "data": {
            "text/plain": [
              "'[(8,)]'"
            ],
            "application/vnd.google.colaboratory.intrinsic+json": {
              "type": "string"
            }
          },
          "metadata": {},
          "execution_count": 13
        }
      ]
    },
    {
      "cell_type": "markdown",
      "source": [
        "## Case 2: Text-to-SQL query and execution\n",
        "\n",
        "We can use `SQLDatabaseChain` from `langchain_experimental` to create and run SQL queries."
      ],
      "metadata": {
        "id": "SBTl7rSCEHWe"
      }
    },
    {
      "cell_type": "code",
      "source": [
        "from langchain.llms import OpenAI\n",
        "from langchain_experimental.sql import SQLDatabaseChain\n",
        "\n",
        "llm = OpenAI(temperature=0, verbose=True)\n",
        "db_chain = SQLDatabaseChain.from_llm(llm, db, verbose=True)"
      ],
      "metadata": {
        "id": "r4WE2cN0EHZO"
      },
      "execution_count": 9,
      "outputs": []
    },
    {
      "cell_type": "code",
      "source": [
        "db_chain.run(\"직원이 몇명이나 있어?\")"
      ],
      "metadata": {
        "colab": {
          "base_uri": "https://localhost:8080/",
          "height": 178
        },
        "id": "JrFVmIwiFqtB",
        "outputId": "453f08ef-9821-4ee6-c50d-34cdd4714142"
      },
      "execution_count": 10,
      "outputs": [
        {
          "output_type": "stream",
          "name": "stdout",
          "text": [
            "\n",
            "\n",
            "\u001b[1m> Entering new SQLDatabaseChain chain...\u001b[0m\n",
            "직원이 몇명이나 있어?\n",
            "SQLQuery:\u001b[32;1m\u001b[1;3mSELECT COUNT(*) FROM employees\u001b[0m\n",
            "SQLResult: \u001b[33;1m\u001b[1;3m[(8,)]\u001b[0m\n",
            "Answer:\u001b[32;1m\u001b[1;3m8\u001b[0m\n",
            "\u001b[1m> Finished chain.\u001b[0m\n"
          ]
        },
        {
          "output_type": "execute_result",
          "data": {
            "text/plain": [
              "'8'"
            ],
            "application/vnd.google.colaboratory.intrinsic+json": {
              "type": "string"
            }
          },
          "metadata": {},
          "execution_count": 10
        }
      ]
    },
    {
      "cell_type": "markdown",
      "source": [
        "보시다시피 이전 사례와 동일한 결과를 얻을 수 있습니다.\n",
        "\n",
        "여기서 체인은 **쿼리 실행도 처리**하고 사용자 질문과 쿼리 결과를 기반으로 최종 답변을 제공합니다.\n",
        "\n",
        "이 방식은 'SQL 인젝션'에 취약하기 때문에 사용 시 **주의**해야 합니다:\n",
        "\n",
        "* 체인이 LLM에 의해 생성되고 검증되지 않은 쿼리를 실행하고 있습니다.\n",
        "* 예: 레코드가 의도치 않게 생성, 수정 또는 삭제될 수 있음_.\n",
        "\n",
        "이것이 바로 `SQLDatabaseChain`이 `랭체인_실험` 안에 있는 이유입니다."
      ],
      "metadata": {
        "id": "ARE_-sIDFsH_"
      }
    },
    {
      "cell_type": "markdown",
      "source": [
        "## 사례 3: SQL 에이전트\n",
        "\n",
        "LangChain에는 `SQLDatabaseChain`보다 SQL 데이터베이스와 상호 작용하는 더 유연한 방법을 제공하는 SQL 에이전트가 있습니다.\n",
        "\n",
        "SQL 에이전트 사용의 주요 장점은 다음과 같습니다:\n",
        "\n",
        "- 데이터베이스의 스키마뿐만 아니라 데이터베이스의 콘텐츠(예: 특정 테이블 설명)를 기반으로 질문에 답변할 수 있습니다.\n",
        "- 생성된 쿼리를 실행하고 트레이스백을 포착하여 올바르게 다시 생성함으로써 오류로부터 복구할 수 있습니다.\n",
        "\n",
        "에이전트를 초기화하기 위해 `create_sql_agent` 함수를 사용합니다.\n",
        "\n",
        "이 에이전트에는 다음과 같은 도구가 포함된 `SQLDatabaseToolkit`이 포함되어 있습니다:\n",
        "\n",
        "* 쿼리 생성 및 실행\n",
        "* 쿼리 구문 확인\n",
        "* 테이블 설명 검색\n",
        "* ... 등"
      ],
      "metadata": {
        "id": "comcPxO0GJQs"
      }
    },
    {
      "cell_type": "code",
      "source": [
        "from langchain.agents import create_sql_agent\n",
        "from langchain.agents.agent_toolkits import SQLDatabaseToolkit\n",
        "\n",
        "# from langchain.agents import AgentExecutor\n",
        "from langchain.agents.agent_types import AgentType\n",
        "\n",
        "db = SQLDatabase.from_uri(\"sqlite:///chinook.db\")\n",
        "\n",
        "agent_executor = create_sql_agent(\n",
        "    llm=OpenAI(temperature=0),\n",
        "    toolkit=SQLDatabaseToolkit(db=db, llm=OpenAI(temperature=0)),\n",
        "    verbose=True,\n",
        "    agent_type=AgentType.ZERO_SHOT_REACT_DESCRIPTION,\n",
        ")"
      ],
      "metadata": {
        "id": "kMfGqJIoGJ8X"
      },
      "execution_count": 14,
      "outputs": []
    },
    {
      "cell_type": "markdown",
      "source": [
        "### Agent task example #1 - Running queries\n"
      ],
      "metadata": {
        "id": "nVae3do2GLgO"
      }
    },
    {
      "cell_type": "code",
      "source": [
        "agent_executor.run(\n",
        "    \"국가별 총 매출을 나열합니다. 어느 국가의 고객이 가장 많이 지출했나요?\"\n",
        ")"
      ],
      "metadata": {
        "colab": {
          "base_uri": "https://localhost:8080/",
          "height": 1000
        },
        "id": "qNRGNR1rGNsf",
        "outputId": "8772a092-6ac0-4d1d-a8a5-e593b22bf200"
      },
      "execution_count": 15,
      "outputs": [
        {
          "output_type": "stream",
          "name": "stdout",
          "text": [
            "\n",
            "\n",
            "\u001b[1m> Entering new AgentExecutor chain...\u001b[0m\n",
            "\u001b[32;1m\u001b[1;3m We need to find the total sales for each country and then determine which country has the highest total sales.\n",
            "Action: sql_db_query\n",
            "Action Input: SELECT country, SUM(sales) AS total_sales FROM customers GROUP BY country ORDER BY total_sales DESC LIMIT 1\u001b[0m\u001b[36;1m\u001b[1;3mError: (sqlite3.OperationalError) no such column: sales\n",
            "[SQL: SELECT country, SUM(sales) AS total_sales FROM customers GROUP BY country ORDER BY total_sales DESC LIMIT 1]\n",
            "(Background on this error at: https://sqlalche.me/e/20/e3q8)\u001b[0m\u001b[32;1m\u001b[1;3mWe need to check the table schema to see if there is a column named 'sales'.\n",
            "Action: sql_db_schema\n",
            "Action Input: customers\u001b[0m\u001b[33;1m\u001b[1;3m\n",
            "CREATE TABLE customers (\n",
            "\t\"CustomerId\" INTEGER NOT NULL, \n",
            "\t\"FirstName\" NVARCHAR(40) NOT NULL, \n",
            "\t\"LastName\" NVARCHAR(20) NOT NULL, \n",
            "\t\"Company\" NVARCHAR(80), \n",
            "\t\"Address\" NVARCHAR(70), \n",
            "\t\"City\" NVARCHAR(40), \n",
            "\t\"State\" NVARCHAR(40), \n",
            "\t\"Country\" NVARCHAR(40), \n",
            "\t\"PostalCode\" NVARCHAR(10), \n",
            "\t\"Phone\" NVARCHAR(24), \n",
            "\t\"Fax\" NVARCHAR(24), \n",
            "\t\"Email\" NVARCHAR(60) NOT NULL, \n",
            "\t\"SupportRepId\" INTEGER, \n",
            "\tPRIMARY KEY (\"CustomerId\"), \n",
            "\tFOREIGN KEY(\"SupportRepId\") REFERENCES employees (\"EmployeeId\")\n",
            ")\n",
            "\n",
            "/*\n",
            "3 rows from customers table:\n",
            "CustomerId\tFirstName\tLastName\tCompany\tAddress\tCity\tState\tCountry\tPostalCode\tPhone\tFax\tEmail\tSupportRepId\n",
            "1\tLuís\tGonçalves\tEmbraer - Empresa Brasileira de Aeronáutica S.A.\tAv. Brigadeiro Faria Lima, 2170\tSão José dos Campos\tSP\tBrazil\t12227-000\t+55 (12) 3923-5555\t+55 (12) 3923-5566\tluisg@embraer.com.br\t3\n",
            "2\tLeonie\tKöhler\tNone\tTheodor-Heuss-Straße 34\tStuttgart\tNone\tGermany\t70174\t+49 0711 2842222\tNone\tleonekohler@surfeu.de\t5\n",
            "3\tFrançois\tTremblay\tNone\t1498 rue Bélanger\tMontréal\tQC\tCanada\tH2G 1A7\t+1 (514) 721-4711\tNone\tftremblay@gmail.com\t3\n",
            "*/\u001b[0m\u001b[32;1m\u001b[1;3m We can see that there is no 'sales' column in the customers table. We need to use sql_db_list_tables to see if there is another table that contains sales data.\n",
            "Action: sql_db_list_tables\n",
            "Action Input: \u001b[0m\u001b[38;5;200m\u001b[1;3malbums, artists, customers, employees, genres, invoice_items, invoices, media_types, playlist_track, playlists, tracks\u001b[0m\u001b[32;1m\u001b[1;3m We can see that there is no table specifically for sales data. We need to use sql_db_query_checker to check our query before executing it.\n",
            "Action: sql_db_query_checker\n",
            "Action Input: SELECT country, SUM(total) AS total_sales FROM customers GROUP BY country ORDER BY total_sales DESC LIMIT 1\u001b[0m\u001b[36;1m\u001b[1;3m\n",
            "SELECT country, SUM(total) AS total_sales \n",
            "FROM customers \n",
            "WHERE country IS NOT NULL \n",
            "GROUP BY country \n",
            "ORDER BY total_sales DESC \n",
            "LIMIT 1;\u001b[0m\u001b[32;1m\u001b[1;3m We have corrected our query to include the correct table and column names. We can now execute the query.\n",
            "Action: sql_db_query\n",
            "Action Input: SELECT country, SUM(total) AS total_sales FROM invoices GROUP BY country ORDER BY total_sales DESC LIMIT 1\u001b[0m\u001b[36;1m\u001b[1;3mError: (sqlite3.OperationalError) no such column: country\n",
            "[SQL: SELECT country, SUM(total) AS total_sales FROM invoices GROUP BY country ORDER BY total_sales DESC LIMIT 1]\n",
            "(Background on this error at: https://sqlalche.me/e/20/e3q8)\u001b[0m\u001b[32;1m\u001b[1;3m We need to check the table schema for the invoices table to see if there is a column named 'country'.\n",
            "Action: sql_db_schema\n",
            "Action Input: invoices\u001b[0m\u001b[33;1m\u001b[1;3m\n",
            "CREATE TABLE invoices (\n",
            "\t\"InvoiceId\" INTEGER NOT NULL, \n",
            "\t\"CustomerId\" INTEGER NOT NULL, \n",
            "\t\"InvoiceDate\" DATETIME NOT NULL, \n",
            "\t\"BillingAddress\" NVARCHAR(70), \n",
            "\t\"BillingCity\" NVARCHAR(40), \n",
            "\t\"BillingState\" NVARCHAR(40), \n",
            "\t\"BillingCountry\" NVARCHAR(40), \n",
            "\t\"BillingPostalCode\" NVARCHAR(10), \n",
            "\t\"Total\" NUMERIC(10, 2) NOT NULL, \n",
            "\tPRIMARY KEY (\"InvoiceId\"), \n",
            "\tFOREIGN KEY(\"CustomerId\") REFERENCES customers (\"CustomerId\")\n",
            ")\n",
            "\n",
            "/*\n",
            "3 rows from invoices table:\n",
            "InvoiceId\tCustomerId\tInvoiceDate\tBillingAddress\tBillingCity\tBillingState\tBillingCountry\tBillingPostalCode\tTotal\n",
            "1\t2\t2009-01-01 00:00:00\tTheodor-Heuss-Straße 34\tStuttgart\tNone\tGermany\t70174\t1.98\n",
            "2\t4\t2009-01-02 00:00:00\tUllevålsveien 14\tOslo\tNone\tNorway\t0171\t3.96\n",
            "3\t8\t2009-01-03 00:00:00\tGrétrystraat 63\tBrussels\tNone\tBelgium\t1000\t5.94\n",
            "*/\u001b[0m\u001b[32;1m\u001b[1;3m We can see that there is a 'BillingCountry' column in the invoices table. We need to use this column instead of 'country' in our query.\n",
            "Action: sql_db_query\n",
            "Action Input: SELECT BillingCountry, SUM(Total) AS total_sales FROM invoices GROUP BY BillingCountry ORDER BY total_sales DESC LIMIT 1\u001b[0m\u001b[36;1m\u001b[1;3m[('USA', 523.0600000000003)]\u001b[0m\u001b[32;1m\u001b[1;3m We can see that the USA has the highest total sales. \n",
            "Final Answer: The USA has the highest total sales.\u001b[0m\n",
            "\n",
            "\u001b[1m> Finished chain.\u001b[0m\n"
          ]
        },
        {
          "output_type": "execute_result",
          "data": {
            "text/plain": [
              "'The USA has the highest total sales.'"
            ],
            "application/vnd.google.colaboratory.intrinsic+json": {
              "type": "string"
            }
          },
          "metadata": {},
          "execution_count": 15
        }
      ]
    },
    {
      "cell_type": "markdown",
      "source": [
        "### Agent task example #2 - Describing a Table"
      ],
      "metadata": {
        "id": "pDCUXfwjGPxA"
      }
    },
    {
      "cell_type": "code",
      "source": [
        "agent_executor.run(\"playlisttrack 테이블에 대해서 설명해줄래?\")"
      ],
      "metadata": {
        "colab": {
          "base_uri": "https://localhost:8080/",
          "height": 609
        },
        "id": "c9dMfM-TGSnH",
        "outputId": "8aec0443-4c0f-4dfe-80cb-e88ffde7634f"
      },
      "execution_count": 16,
      "outputs": [
        {
          "output_type": "stream",
          "name": "stdout",
          "text": [
            "\n",
            "\n",
            "\u001b[1m> Entering new AgentExecutor chain...\u001b[0m\n",
            "\u001b[32;1m\u001b[1;3m I should use sql_db_schema to get the schema and sample rows for the playlisttrack table.\n",
            "Action: sql_db_schema\n",
            "Action Input: playlisttrack\u001b[0m\u001b[33;1m\u001b[1;3mError: table_names {'playlisttrack'} not found in database\u001b[0m\u001b[32;1m\u001b[1;3mI should use sql_db_list_tables to get a list of tables in the database and check if playlisttrack is included.\n",
            "Action: sql_db_list_tables\n",
            "Action Input: \"\"\u001b[0m\u001b[38;5;200m\u001b[1;3malbums, artists, customers, employees, genres, invoice_items, invoices, media_types, playlist_track, playlists, tracks\u001b[0m\u001b[32;1m\u001b[1;3mI should use sql_db_schema again with the correct spelling of playlist_track.\n",
            "Action: sql_db_schema\n",
            "Action Input: playlist_track\u001b[0m\u001b[33;1m\u001b[1;3m\n",
            "CREATE TABLE playlist_track (\n",
            "\t\"PlaylistId\" INTEGER NOT NULL, \n",
            "\t\"TrackId\" INTEGER NOT NULL, \n",
            "\tPRIMARY KEY (\"PlaylistId\", \"TrackId\"), \n",
            "\tFOREIGN KEY(\"TrackId\") REFERENCES tracks (\"TrackId\"), \n",
            "\tFOREIGN KEY(\"PlaylistId\") REFERENCES playlists (\"PlaylistId\")\n",
            ")\n",
            "\n",
            "/*\n",
            "3 rows from playlist_track table:\n",
            "PlaylistId\tTrackId\n",
            "1\t3402\n",
            "1\t3389\n",
            "1\t3390\n",
            "*/\u001b[0m\u001b[32;1m\u001b[1;3mI now know the final answer.\n",
            "Final Answer: The playlisttrack table has two columns, PlaylistId and TrackId, and is used to store the relationship between playlists and tracks. It has a composite primary key consisting of both columns and foreign key constraints referencing the playlists and tracks tables. Sample rows from the table show the relationship between a playlist with id 1 and three tracks with ids 3402, 3389, and 3390.\u001b[0m\n",
            "\n",
            "\u001b[1m> Finished chain.\u001b[0m\n"
          ]
        },
        {
          "output_type": "execute_result",
          "data": {
            "text/plain": [
              "'The playlisttrack table has two columns, PlaylistId and TrackId, and is used to store the relationship between playlists and tracks. It has a composite primary key consisting of both columns and foreign key constraints referencing the playlists and tracks tables. Sample rows from the table show the relationship between a playlist with id 1 and three tracks with ids 3402, 3389, and 3390.'"
            ],
            "application/vnd.google.colaboratory.intrinsic+json": {
              "type": "string"
            }
          },
          "metadata": {},
          "execution_count": 16
        }
      ]
    },
    {
      "cell_type": "markdown",
      "source": [
        "### SQL 툴킷 확장하기\n",
        "\n",
        "기본 제공되는 SQL 툴킷에는 데이터베이스 작업을 시작하는 데 필요한 도구가 포함되어 있지만, 에이전트의 기능을 확장하는 데 몇 가지 추가 도구가 유용할 수 있는 경우가 종종 있습니다. 이는 솔루션의 전반적인 성능을 개선하기 위해 솔루션에서 **도메인별 지식**을 사용하려고 할 때 특히 유용합니다.\n",
        "\n",
        "몇 가지 예는 다음과 같습니다:\n",
        "\n",
        "- Dynamic Few shot 예시 포함\n",
        "- 열 필터로 사용할 고유명사의 철자 오류 찾기\n",
        "\n",
        "이러한 특정 사용 사례를 처리하는 별도의 도구를 만들어 표준 SQL 도구 키트에 보완용으로 포함할 수 있습니다. 이 두 가지 사용자 정의 도구를 포함하는 방법을 살펴보겠습니다.\n",
        "\n",
        "#### Dynamic Few shot 예제 포함\n",
        "\n",
        "Dynamic Few shot 예제를 포함하려면 사용자의 질문과 의미적으로 유사한 예제를 검색하기 위해 벡터 데이터베이스를 처리하는 사용자 지정 **검색 도구**가 필요합니다.\n",
        "\n",
        "몇 가지 예제가 포함된 사전을 만드는 것부터 시작하겠습니다:"
      ],
      "metadata": {
        "id": "5YwIUZWRGULF"
      }
    },
    {
      "cell_type": "code",
      "source": [
        "few_shots = {\n",
        "    \"List all artists.\": \"SELECT * FROM artists;\",\n",
        "    \"Find all albums for the artist 'AC/DC'.\": \"SELECT * FROM albums WHERE ArtistId = (SELECT ArtistId FROM artists WHERE Name = 'AC/DC');\",\n",
        "    \"List all tracks in the 'Rock' genre.\": \"SELECT * FROM tracks WHERE GenreId = (SELECT GenreId FROM genres WHERE Name = 'Rock');\",\n",
        "    \"Find the total duration of all tracks.\": \"SELECT SUM(Milliseconds) FROM tracks;\",\n",
        "    \"List all customers from Canada.\": \"SELECT * FROM customers WHERE Country = 'Canada';\",\n",
        "    \"How many tracks are there in the album with ID 5?\": \"SELECT COUNT(*) FROM tracks WHERE AlbumId = 5;\",\n",
        "    \"Find the total number of invoices.\": \"SELECT COUNT(*) FROM invoices;\",\n",
        "    \"List all tracks that are longer than 5 minutes.\": \"SELECT * FROM tracks WHERE Milliseconds > 300000;\",\n",
        "    \"Who are the top 5 customers by total purchase?\": \"SELECT CustomerId, SUM(Total) AS TotalPurchase FROM invoices GROUP BY CustomerId ORDER BY TotalPurchase DESC LIMIT 5;\",\n",
        "    \"Which albums are from the year 2000?\": \"SELECT * FROM albums WHERE strftime('%Y', ReleaseDate) = '2000';\",\n",
        "    \"How many employees are there\": 'SELECT COUNT(*) FROM \"employee\"',\n",
        "}"
      ],
      "metadata": {
        "id": "RmMvtvymGXWO"
      },
      "execution_count": 17,
      "outputs": []
    },
    {
      "cell_type": "markdown",
      "source": [
        "그런 다음 질문 목록을 사용하여 검색기를 생성하고 대상 SQL 쿼리를 메타데이터로 할당할 수 있습니다:"
      ],
      "metadata": {
        "id": "J1mw-QgkGaAI"
      }
    },
    {
      "cell_type": "code",
      "source": [
        "!pip install -qqq tiktoken faiss-cpu"
      ],
      "metadata": {
        "colab": {
          "base_uri": "https://localhost:8080/"
        },
        "id": "oDqKokawGcyT",
        "outputId": "870ca405-1254-4f3b-a6c8-396ad524923b"
      },
      "execution_count": 18,
      "outputs": [
        {
          "output_type": "stream",
          "name": "stdout",
          "text": [
            "\u001b[2K     \u001b[90m━━━━━━━━━━━━━━━━━━━━━━━━━━━━━━━━━━━━━━━━\u001b[0m \u001b[32m17.6/17.6 MB\u001b[0m \u001b[31m56.6 MB/s\u001b[0m eta \u001b[36m0:00:00\u001b[0m\n",
            "\u001b[?25h"
          ]
        }
      ]
    },
    {
      "cell_type": "code",
      "source": [
        "from langchain.embeddings.openai import OpenAIEmbeddings\n",
        "from langchain.schema import Document\n",
        "from langchain.vectorstores import FAISS\n",
        "\n",
        "embeddings = OpenAIEmbeddings()\n",
        "\n",
        "few_shot_docs = [\n",
        "    Document(page_content=question, metadata={\"sql_query\": few_shots[question]})\n",
        "    for question in few_shots.keys()\n",
        "]\n",
        "vector_db = FAISS.from_documents(few_shot_docs, embeddings)\n",
        "retriever = vector_db.as_retriever()"
      ],
      "metadata": {
        "id": "CrHylvowGhFy"
      },
      "execution_count": 19,
      "outputs": []
    },
    {
      "cell_type": "markdown",
      "source": [
        "이제 고유한 사용자 지정 도구를 만들어 'create_sql_agent' 함수에 새 도구로 추가할 수 있습니다:"
      ],
      "metadata": {
        "id": "DJJGFEReGvvh"
      }
    },
    {
      "cell_type": "code",
      "source": [
        "from langchain.agents.agent_toolkits import create_retriever_tool\n",
        "\n",
        "tool_description = \"\"\"\n",
        "이 도구는 유사한 예시를 이해하여 사용자 질문에 적용하는 데 도움이 됩니다.\n",
        "이 도구에 입력하는 내용은 사용자 질문이어야 합니다.\n",
        "\"\"\"\n",
        "\n",
        "retriever_tool = create_retriever_tool(\n",
        "    retriever, name=\"sql_get_similar_examples\", description=tool_description\n",
        ")\n",
        "custom_tool_list = [retriever_tool]"
      ],
      "metadata": {
        "id": "lw8jqHaGGxQV"
      },
      "execution_count": 20,
      "outputs": []
    },
    {
      "cell_type": "markdown",
      "source": [
        "이제 사용 사례를 고려하여 표준 SQL 에이전트 접미사를 조정하여 에이전트를 만들 수 있습니다. 이를 처리하는 가장 간단한 방법은 도구 설명에 포함시키는 것이지만, 이것만으로는 충분하지 않은 경우가 많으므로 생성자의 '접미사' 인수를 사용하여 에이전트 프롬프트에서 이를 지정해야 합니다."
      ],
      "metadata": {
        "id": "A5AVfvQTGyjD"
      }
    },
    {
      "cell_type": "code",
      "source": [
        "from langchain.agents import AgentType, create_sql_agent\n",
        "from langchain.agents.agent_toolkits import SQLDatabaseToolkit\n",
        "from langchain.chat_models import ChatOpenAI\n",
        "from langchain.utilities import SQLDatabase\n",
        "\n",
        "db = SQLDatabase.from_uri(\"sqlite:///chinook.db\")\n",
        "llm = ChatOpenAI(model_name=\"gpt-4-1106-preview\", temperature=0)\n",
        "\n",
        "toolkit = SQLDatabaseToolkit(db=db, llm=llm)\n",
        "\n",
        "custom_suffix = \"\"\"\n",
        "먼저 제가 알고 있는 비슷한 예제를 가져와야 합니다.\n",
        "예제가 쿼리를 구성하기에 충분하다면 쿼리를 작성할 수 있습니다.\n",
        "그렇지 않으면 데이터베이스의 테이블을 살펴보고 쿼리할 수 있는 항목을 확인할 수 있습니다.\n",
        "그런 다음 가장 관련성이 높은 테이블의 스키마를 쿼리해야 합니다.\n",
        "\"\"\"\n",
        "\n",
        "agent = create_sql_agent(\n",
        "    llm=llm,\n",
        "    toolkit=toolkit,\n",
        "    verbose=True,\n",
        "    agent_type=AgentType.OPENAI_FUNCTIONS,\n",
        "    extra_tools=custom_tool_list,\n",
        "    suffix=custom_suffix,\n",
        ")"
      ],
      "metadata": {
        "id": "PrkmW1U2G1cC"
      },
      "execution_count": 21,
      "outputs": []
    },
    {
      "cell_type": "markdown",
      "source": [
        "Let's try it out:"
      ],
      "metadata": {
        "id": "YUtGNRqQG22D"
      }
    },
    {
      "cell_type": "code",
      "source": [
        "agent.run(\"How many employees do we have?\")"
      ],
      "metadata": {
        "colab": {
          "base_uri": "https://localhost:8080/",
          "height": 1000
        },
        "id": "ZKuUXIF3G4wd",
        "outputId": "902d82fb-ad99-4ad0-8d70-0bcd0a454552"
      },
      "execution_count": 22,
      "outputs": [
        {
          "output_type": "stream",
          "name": "stdout",
          "text": [
            "\n",
            "\n",
            "\u001b[1m> Entering new AgentExecutor chain...\u001b[0m\n",
            "\u001b[32;1m\u001b[1;3m\n",
            "Invoking: `sql_get_similar_examples` with `{'query': 'How many employees do we have?'}`\n",
            "\n",
            "\n",
            "\u001b[0m\u001b[33;1m\u001b[1;3mHow many employees are there\n",
            "\n",
            "Find the total number of invoices.\n",
            "\n",
            "Who are the top 5 customers by total purchase?\n",
            "\n",
            "List all customers from Canada.\u001b[0m\u001b[32;1m\u001b[1;3m\n",
            "Invoking: `sql_db_list_tables` with ``\n",
            "\n",
            "\n",
            "\u001b[0m\u001b[38;5;200m\u001b[1;3malbums, artists, customers, employees, genres, invoice_items, invoices, media_types, playlist_track, playlists, tracks\u001b[0m\u001b[32;1m\u001b[1;3m\n",
            "Invoking: `sql_db_schema` with `{'table_names': 'employees'}`\n",
            "\n",
            "\n",
            "\u001b[0m\u001b[33;1m\u001b[1;3m\n",
            "CREATE TABLE employees (\n",
            "\t\"EmployeeId\" INTEGER NOT NULL, \n",
            "\t\"LastName\" NVARCHAR(20) NOT NULL, \n",
            "\t\"FirstName\" NVARCHAR(20) NOT NULL, \n",
            "\t\"Title\" NVARCHAR(30), \n",
            "\t\"ReportsTo\" INTEGER, \n",
            "\t\"BirthDate\" DATETIME, \n",
            "\t\"HireDate\" DATETIME, \n",
            "\t\"Address\" NVARCHAR(70), \n",
            "\t\"City\" NVARCHAR(40), \n",
            "\t\"State\" NVARCHAR(40), \n",
            "\t\"Country\" NVARCHAR(40), \n",
            "\t\"PostalCode\" NVARCHAR(10), \n",
            "\t\"Phone\" NVARCHAR(24), \n",
            "\t\"Fax\" NVARCHAR(24), \n",
            "\t\"Email\" NVARCHAR(60), \n",
            "\tPRIMARY KEY (\"EmployeeId\"), \n",
            "\tFOREIGN KEY(\"ReportsTo\") REFERENCES employees (\"EmployeeId\")\n",
            ")\n",
            "\n",
            "/*\n",
            "3 rows from employees table:\n",
            "EmployeeId\tLastName\tFirstName\tTitle\tReportsTo\tBirthDate\tHireDate\tAddress\tCity\tState\tCountry\tPostalCode\tPhone\tFax\tEmail\n",
            "1\tAdams\tAndrew\tGeneral Manager\tNone\t1962-02-18 00:00:00\t2002-08-14 00:00:00\t11120 Jasper Ave NW\tEdmonton\tAB\tCanada\tT5K 2N1\t+1 (780) 428-9482\t+1 (780) 428-3457\tandrew@chinookcorp.com\n",
            "2\tEdwards\tNancy\tSales Manager\t1\t1958-12-08 00:00:00\t2002-05-01 00:00:00\t825 8 Ave SW\tCalgary\tAB\tCanada\tT2P 2T3\t+1 (403) 262-3443\t+1 (403) 262-3322\tnancy@chinookcorp.com\n",
            "3\tPeacock\tJane\tSales Support Agent\t2\t1973-08-29 00:00:00\t2002-04-01 00:00:00\t1111 6 Ave SW\tCalgary\tAB\tCanada\tT2P 5M5\t+1 (403) 262-3443\t+1 (403) 262-6712\tjane@chinookcorp.com\n",
            "*/\u001b[0m\u001b[32;1m\u001b[1;3m\n",
            "Invoking: `sql_db_query_checker` with `SELECT COUNT(*) AS NumberOfEmployees FROM employees`\n",
            "\n",
            "\n",
            "\u001b[0m\u001b[36;1m\u001b[1;3mThe provided SQLite query does not exhibit any of the common mistakes listed. It is a simple query that counts the number of rows in the 'employees' table. Therefore, the original query is correct as it stands:\n",
            "\n",
            "```sql\n",
            "SELECT COUNT(*) AS NumberOfEmployees FROM employees\n",
            "```\u001b[0m\u001b[32;1m\u001b[1;3m\n",
            "Invoking: `sql_db_query` with `SELECT COUNT(*) AS NumberOfEmployees FROM employees`\n",
            "\n",
            "\n",
            "\u001b[0m\u001b[36;1m\u001b[1;3m[(8,)]\u001b[0m\u001b[32;1m\u001b[1;3mWe have a total of 8 employees.\u001b[0m\n",
            "\n",
            "\u001b[1m> Finished chain.\u001b[0m\n"
          ]
        },
        {
          "output_type": "execute_result",
          "data": {
            "text/plain": [
              "'We have a total of 8 employees.'"
            ],
            "application/vnd.google.colaboratory.intrinsic+json": {
              "type": "string"
            }
          },
          "metadata": {},
          "execution_count": 22
        }
      ]
    },
    {
      "cell_type": "markdown",
      "source": [
        "#### 고유명사의 맞춤법 오류 찾기 및 수정하기\n",
        "\n",
        "주소, 노래 이름 또는 아티스트와 같은 고유명사가 포함된 열을 필터링하려면 먼저 철자를 다시 확인하여 데이터를 올바르게 필터링해야 합니다.\n",
        "\n",
        "데이터베이스에 존재하는 모든 고유 고유명사를 사용하여 벡터 저장소를 생성하면 됩니다. 그런 다음 사용자가 질문에 고유 명사를 포함할 때마다 상담원이 해당 벡터 저장소를 쿼리하여 해당 단어의 올바른 철자를 찾도록 할 수 있습니다. 이러한 방식으로 에이전트는 대상 쿼리를 작성하기 전에 사용자가 어떤 엔티티를 참조하는지 이해할 수 있습니다.\n",
        "\n",
        "메타데이터 없이 고유명사를 임베드한 다음 철자가 틀린 사용자 질문과 가장 유사한 것을 쿼리하는 방식으로 몇 가지 샷과 유사한 접근 방식을 따라 해 보겠습니다.\n",
        "\n",
        "먼저 원하는 각 엔티티에 대한 고유 값이 필요하며, 이를 위해 결과를 요소 목록으로 파싱하는 함수를 정의합니다:"
      ],
      "metadata": {
        "id": "6dCuGYjUG8c6"
      }
    },
    {
      "cell_type": "code",
      "source": [
        "print(db.table_info)"
      ],
      "metadata": {
        "colab": {
          "base_uri": "https://localhost:8080/"
        },
        "id": "B-0_wuA7G6eZ",
        "outputId": "a60d004e-17b5-4e3c-c857-a692c498471d"
      },
      "execution_count": 23,
      "outputs": [
        {
          "output_type": "stream",
          "name": "stdout",
          "text": [
            "\n",
            "CREATE TABLE albums (\n",
            "\t\"AlbumId\" INTEGER NOT NULL, \n",
            "\t\"Title\" NVARCHAR(160) NOT NULL, \n",
            "\t\"ArtistId\" INTEGER NOT NULL, \n",
            "\tPRIMARY KEY (\"AlbumId\"), \n",
            "\tFOREIGN KEY(\"ArtistId\") REFERENCES artists (\"ArtistId\")\n",
            ")\n",
            "\n",
            "/*\n",
            "3 rows from albums table:\n",
            "AlbumId\tTitle\tArtistId\n",
            "1\tFor Those About To Rock We Salute You\t1\n",
            "2\tBalls to the Wall\t2\n",
            "3\tRestless and Wild\t2\n",
            "*/\n",
            "\n",
            "\n",
            "CREATE TABLE artists (\n",
            "\t\"ArtistId\" INTEGER NOT NULL, \n",
            "\t\"Name\" NVARCHAR(120), \n",
            "\tPRIMARY KEY (\"ArtistId\")\n",
            ")\n",
            "\n",
            "/*\n",
            "3 rows from artists table:\n",
            "ArtistId\tName\n",
            "1\tAC/DC\n",
            "2\tAccept\n",
            "3\tAerosmith\n",
            "*/\n",
            "\n",
            "\n",
            "CREATE TABLE customers (\n",
            "\t\"CustomerId\" INTEGER NOT NULL, \n",
            "\t\"FirstName\" NVARCHAR(40) NOT NULL, \n",
            "\t\"LastName\" NVARCHAR(20) NOT NULL, \n",
            "\t\"Company\" NVARCHAR(80), \n",
            "\t\"Address\" NVARCHAR(70), \n",
            "\t\"City\" NVARCHAR(40), \n",
            "\t\"State\" NVARCHAR(40), \n",
            "\t\"Country\" NVARCHAR(40), \n",
            "\t\"PostalCode\" NVARCHAR(10), \n",
            "\t\"Phone\" NVARCHAR(24), \n",
            "\t\"Fax\" NVARCHAR(24), \n",
            "\t\"Email\" NVARCHAR(60) NOT NULL, \n",
            "\t\"SupportRepId\" INTEGER, \n",
            "\tPRIMARY KEY (\"CustomerId\"), \n",
            "\tFOREIGN KEY(\"SupportRepId\") REFERENCES employees (\"EmployeeId\")\n",
            ")\n",
            "\n",
            "/*\n",
            "3 rows from customers table:\n",
            "CustomerId\tFirstName\tLastName\tCompany\tAddress\tCity\tState\tCountry\tPostalCode\tPhone\tFax\tEmail\tSupportRepId\n",
            "1\tLuís\tGonçalves\tEmbraer - Empresa Brasileira de Aeronáutica S.A.\tAv. Brigadeiro Faria Lima, 2170\tSão José dos Campos\tSP\tBrazil\t12227-000\t+55 (12) 3923-5555\t+55 (12) 3923-5566\tluisg@embraer.com.br\t3\n",
            "2\tLeonie\tKöhler\tNone\tTheodor-Heuss-Straße 34\tStuttgart\tNone\tGermany\t70174\t+49 0711 2842222\tNone\tleonekohler@surfeu.de\t5\n",
            "3\tFrançois\tTremblay\tNone\t1498 rue Bélanger\tMontréal\tQC\tCanada\tH2G 1A7\t+1 (514) 721-4711\tNone\tftremblay@gmail.com\t3\n",
            "*/\n",
            "\n",
            "\n",
            "CREATE TABLE employees (\n",
            "\t\"EmployeeId\" INTEGER NOT NULL, \n",
            "\t\"LastName\" NVARCHAR(20) NOT NULL, \n",
            "\t\"FirstName\" NVARCHAR(20) NOT NULL, \n",
            "\t\"Title\" NVARCHAR(30), \n",
            "\t\"ReportsTo\" INTEGER, \n",
            "\t\"BirthDate\" DATETIME, \n",
            "\t\"HireDate\" DATETIME, \n",
            "\t\"Address\" NVARCHAR(70), \n",
            "\t\"City\" NVARCHAR(40), \n",
            "\t\"State\" NVARCHAR(40), \n",
            "\t\"Country\" NVARCHAR(40), \n",
            "\t\"PostalCode\" NVARCHAR(10), \n",
            "\t\"Phone\" NVARCHAR(24), \n",
            "\t\"Fax\" NVARCHAR(24), \n",
            "\t\"Email\" NVARCHAR(60), \n",
            "\tPRIMARY KEY (\"EmployeeId\"), \n",
            "\tFOREIGN KEY(\"ReportsTo\") REFERENCES employees (\"EmployeeId\")\n",
            ")\n",
            "\n",
            "/*\n",
            "3 rows from employees table:\n",
            "EmployeeId\tLastName\tFirstName\tTitle\tReportsTo\tBirthDate\tHireDate\tAddress\tCity\tState\tCountry\tPostalCode\tPhone\tFax\tEmail\n",
            "1\tAdams\tAndrew\tGeneral Manager\tNone\t1962-02-18 00:00:00\t2002-08-14 00:00:00\t11120 Jasper Ave NW\tEdmonton\tAB\tCanada\tT5K 2N1\t+1 (780) 428-9482\t+1 (780) 428-3457\tandrew@chinookcorp.com\n",
            "2\tEdwards\tNancy\tSales Manager\t1\t1958-12-08 00:00:00\t2002-05-01 00:00:00\t825 8 Ave SW\tCalgary\tAB\tCanada\tT2P 2T3\t+1 (403) 262-3443\t+1 (403) 262-3322\tnancy@chinookcorp.com\n",
            "3\tPeacock\tJane\tSales Support Agent\t2\t1973-08-29 00:00:00\t2002-04-01 00:00:00\t1111 6 Ave SW\tCalgary\tAB\tCanada\tT2P 5M5\t+1 (403) 262-3443\t+1 (403) 262-6712\tjane@chinookcorp.com\n",
            "*/\n",
            "\n",
            "\n",
            "CREATE TABLE genres (\n",
            "\t\"GenreId\" INTEGER NOT NULL, \n",
            "\t\"Name\" NVARCHAR(120), \n",
            "\tPRIMARY KEY (\"GenreId\")\n",
            ")\n",
            "\n",
            "/*\n",
            "3 rows from genres table:\n",
            "GenreId\tName\n",
            "1\tRock\n",
            "2\tJazz\n",
            "3\tMetal\n",
            "*/\n",
            "\n",
            "\n",
            "CREATE TABLE invoice_items (\n",
            "\t\"InvoiceLineId\" INTEGER NOT NULL, \n",
            "\t\"InvoiceId\" INTEGER NOT NULL, \n",
            "\t\"TrackId\" INTEGER NOT NULL, \n",
            "\t\"UnitPrice\" NUMERIC(10, 2) NOT NULL, \n",
            "\t\"Quantity\" INTEGER NOT NULL, \n",
            "\tPRIMARY KEY (\"InvoiceLineId\"), \n",
            "\tFOREIGN KEY(\"TrackId\") REFERENCES tracks (\"TrackId\"), \n",
            "\tFOREIGN KEY(\"InvoiceId\") REFERENCES invoices (\"InvoiceId\")\n",
            ")\n",
            "\n",
            "/*\n",
            "3 rows from invoice_items table:\n",
            "InvoiceLineId\tInvoiceId\tTrackId\tUnitPrice\tQuantity\n",
            "1\t1\t2\t0.99\t1\n",
            "2\t1\t4\t0.99\t1\n",
            "3\t2\t6\t0.99\t1\n",
            "*/\n",
            "\n",
            "\n",
            "CREATE TABLE invoices (\n",
            "\t\"InvoiceId\" INTEGER NOT NULL, \n",
            "\t\"CustomerId\" INTEGER NOT NULL, \n",
            "\t\"InvoiceDate\" DATETIME NOT NULL, \n",
            "\t\"BillingAddress\" NVARCHAR(70), \n",
            "\t\"BillingCity\" NVARCHAR(40), \n",
            "\t\"BillingState\" NVARCHAR(40), \n",
            "\t\"BillingCountry\" NVARCHAR(40), \n",
            "\t\"BillingPostalCode\" NVARCHAR(10), \n",
            "\t\"Total\" NUMERIC(10, 2) NOT NULL, \n",
            "\tPRIMARY KEY (\"InvoiceId\"), \n",
            "\tFOREIGN KEY(\"CustomerId\") REFERENCES customers (\"CustomerId\")\n",
            ")\n",
            "\n",
            "/*\n",
            "3 rows from invoices table:\n",
            "InvoiceId\tCustomerId\tInvoiceDate\tBillingAddress\tBillingCity\tBillingState\tBillingCountry\tBillingPostalCode\tTotal\n",
            "1\t2\t2009-01-01 00:00:00\tTheodor-Heuss-Straße 34\tStuttgart\tNone\tGermany\t70174\t1.98\n",
            "2\t4\t2009-01-02 00:00:00\tUllevålsveien 14\tOslo\tNone\tNorway\t0171\t3.96\n",
            "3\t8\t2009-01-03 00:00:00\tGrétrystraat 63\tBrussels\tNone\tBelgium\t1000\t5.94\n",
            "*/\n",
            "\n",
            "\n",
            "CREATE TABLE media_types (\n",
            "\t\"MediaTypeId\" INTEGER NOT NULL, \n",
            "\t\"Name\" NVARCHAR(120), \n",
            "\tPRIMARY KEY (\"MediaTypeId\")\n",
            ")\n",
            "\n",
            "/*\n",
            "3 rows from media_types table:\n",
            "MediaTypeId\tName\n",
            "1\tMPEG audio file\n",
            "2\tProtected AAC audio file\n",
            "3\tProtected MPEG-4 video file\n",
            "*/\n",
            "\n",
            "\n",
            "CREATE TABLE playlist_track (\n",
            "\t\"PlaylistId\" INTEGER NOT NULL, \n",
            "\t\"TrackId\" INTEGER NOT NULL, \n",
            "\tPRIMARY KEY (\"PlaylistId\", \"TrackId\"), \n",
            "\tFOREIGN KEY(\"TrackId\") REFERENCES tracks (\"TrackId\"), \n",
            "\tFOREIGN KEY(\"PlaylistId\") REFERENCES playlists (\"PlaylistId\")\n",
            ")\n",
            "\n",
            "/*\n",
            "3 rows from playlist_track table:\n",
            "PlaylistId\tTrackId\n",
            "1\t3402\n",
            "1\t3389\n",
            "1\t3390\n",
            "*/\n",
            "\n",
            "\n",
            "CREATE TABLE playlists (\n",
            "\t\"PlaylistId\" INTEGER NOT NULL, \n",
            "\t\"Name\" NVARCHAR(120), \n",
            "\tPRIMARY KEY (\"PlaylistId\")\n",
            ")\n",
            "\n",
            "/*\n",
            "3 rows from playlists table:\n",
            "PlaylistId\tName\n",
            "1\tMusic\n",
            "2\tMovies\n",
            "3\tTV Shows\n",
            "*/\n",
            "\n",
            "\n",
            "CREATE TABLE tracks (\n",
            "\t\"TrackId\" INTEGER NOT NULL, \n",
            "\t\"Name\" NVARCHAR(200) NOT NULL, \n",
            "\t\"AlbumId\" INTEGER, \n",
            "\t\"MediaTypeId\" INTEGER NOT NULL, \n",
            "\t\"GenreId\" INTEGER, \n",
            "\t\"Composer\" NVARCHAR(220), \n",
            "\t\"Milliseconds\" INTEGER NOT NULL, \n",
            "\t\"Bytes\" INTEGER, \n",
            "\t\"UnitPrice\" NUMERIC(10, 2) NOT NULL, \n",
            "\tPRIMARY KEY (\"TrackId\"), \n",
            "\tFOREIGN KEY(\"MediaTypeId\") REFERENCES media_types (\"MediaTypeId\"), \n",
            "\tFOREIGN KEY(\"GenreId\") REFERENCES genres (\"GenreId\"), \n",
            "\tFOREIGN KEY(\"AlbumId\") REFERENCES albums (\"AlbumId\")\n",
            ")\n",
            "\n",
            "/*\n",
            "3 rows from tracks table:\n",
            "TrackId\tName\tAlbumId\tMediaTypeId\tGenreId\tComposer\tMilliseconds\tBytes\tUnitPrice\n",
            "1\tFor Those About To Rock (We Salute You)\t1\t1\t1\tAngus Young, Malcolm Young, Brian Johnson\t343719\t11170334\t0.99\n",
            "2\tBalls to the Wall\t2\t2\t1\tNone\t342562\t5510424\t0.99\n",
            "3\tFast As a Shark\t3\t2\t1\tF. Baltes, S. Kaufman, U. Dirkscneider & W. Hoffman\t230619\t3990994\t0.99\n",
            "*/\n"
          ]
        }
      ]
    },
    {
      "cell_type": "code",
      "source": [
        "import ast\n",
        "import re\n",
        "\n",
        "\n",
        "def run_query_save_results(db, query):\n",
        "    res = db.run(query)\n",
        "    res = [el for sub in ast.literal_eval(res) for el in sub if el]\n",
        "    res = [re.sub(r\"\\b\\d+\\b\", \"\", string).strip() for string in res]\n",
        "    return res\n",
        "\n",
        "\n",
        "artists = run_query_save_results(db, \"SELECT name FROM artists\")\n",
        "albums = run_query_save_results(db, \"SELECT title FROM albums\")"
      ],
      "metadata": {
        "id": "CnUVGFN0HBCW"
      },
      "execution_count": 24,
      "outputs": []
    },
    {
      "cell_type": "markdown",
      "source": [
        "이제 사용자 지정 **리트리버 도구**와 최종 에이전트 생성을 진행할 수 있습니다:"
      ],
      "metadata": {
        "id": "iKORwPXjHBgi"
      }
    },
    {
      "cell_type": "code",
      "source": [
        "from langchain.agents.agent_toolkits import create_retriever_tool\n",
        "from langchain.embeddings.openai import OpenAIEmbeddings\n",
        "from langchain.vectorstores import FAISS\n",
        "\n",
        "texts = artists + albums\n",
        "\n",
        "embeddings = OpenAIEmbeddings()\n",
        "vector_db = FAISS.from_texts(texts, embeddings)\n",
        "retriever = vector_db.as_retriever()\n",
        "\n",
        "retriever_tool = create_retriever_tool(\n",
        "    retriever,\n",
        "    name=\"name_search\",\n",
        "    description=\"이름, 성 주소 등 데이터가 실제로 어떻게 쓰여졌는지 알아내는 데 사용합니다.\",\n",
        ")\n",
        "\n",
        "custom_tool_list = [retriever_tool]"
      ],
      "metadata": {
        "id": "vAK2twLqHDqZ"
      },
      "execution_count": 25,
      "outputs": []
    },
    {
      "cell_type": "code",
      "source": [
        "from langchain.agents import AgentType, create_sql_agent\n",
        "from langchain.agents.agent_toolkits import SQLDatabaseToolkit\n",
        "from langchain.chat_models import ChatOpenAI\n",
        "from langchain.utilities import SQLDatabase\n",
        "\n",
        "# db = SQLDatabase.from_uri(\"sqlite:///Chinook.db\")\n",
        "llm = ChatOpenAI(model_name=\"gpt-4\", temperature=0)\n",
        "\n",
        "toolkit = SQLDatabaseToolkit(db=db, llm=llm)\n",
        "\n",
        "custom_suffix = \"\"\"\n",
        "사용자가 고유명사를 기준으로 필터링해 달라고 요청하는 경우, 먼저 name_search 도구를 사용하여 철자를 확인해야 합니다.\n",
        "그렇지 않으면 데이터베이스의 테이블을 살펴보고 쿼리할 수 있는 항목을 확인할 수 있습니다.\n",
        "그런 다음 가장 관련성이 높은 테이블의 스키마를 쿼리해야 합니다.\n",
        "\"\"\"\n",
        "\n",
        "agent = create_sql_agent(\n",
        "    llm=llm,\n",
        "    toolkit=toolkit,\n",
        "    verbose=True,\n",
        "    agent_type=AgentType.OPENAI_FUNCTIONS,\n",
        "    extra_tools=custom_tool_list,\n",
        "    suffix=custom_suffix,\n",
        ")"
      ],
      "metadata": {
        "id": "P5rOCCPAHFGp"
      },
      "execution_count": 26,
      "outputs": []
    },
    {
      "cell_type": "markdown",
      "source": [
        "Let's try it out:"
      ],
      "metadata": {
        "id": "8DAS_rHYHH8K"
      }
    },
    {
      "cell_type": "code",
      "source": [
        "agent.run(\"alice in chains는 몇 개의 앨범을 가지고 있나요?\")"
      ],
      "metadata": {
        "colab": {
          "base_uri": "https://localhost:8080/",
          "height": 1000
        },
        "id": "RB55_IGmHIm-",
        "outputId": "11e0396b-7478-4b80-fec3-f4c613783b1a"
      },
      "execution_count": 27,
      "outputs": [
        {
          "output_type": "stream",
          "name": "stdout",
          "text": [
            "\n",
            "\n",
            "\u001b[1m> Entering new AgentExecutor chain...\u001b[0m\n",
            "\u001b[32;1m\u001b[1;3m\n",
            "Invoking: `name_search` with `{'query': 'alice in chains'}`\n",
            "\n",
            "\n",
            "\u001b[0m\u001b[33;1m\u001b[1;3mAlice In Chains\n",
            "\n",
            "Metallica\n",
            "\n",
            "Pearl Jam\n",
            "\n",
            "Pearl Jam\u001b[0m\u001b[32;1m\u001b[1;3m\n",
            "Invoking: `sql_db_list_tables` with ``\n",
            "\n",
            "\n",
            "\u001b[0m\u001b[38;5;200m\u001b[1;3malbums, artists, customers, employees, genres, invoice_items, invoices, media_types, playlist_track, playlists, tracks\u001b[0m\u001b[32;1m\u001b[1;3m\n",
            "Invoking: `sql_db_schema` with `{'table_names': 'albums, artists'}`\n",
            "\n",
            "\n",
            "\u001b[0m\u001b[33;1m\u001b[1;3m\n",
            "CREATE TABLE albums (\n",
            "\t\"AlbumId\" INTEGER NOT NULL, \n",
            "\t\"Title\" NVARCHAR(160) NOT NULL, \n",
            "\t\"ArtistId\" INTEGER NOT NULL, \n",
            "\tPRIMARY KEY (\"AlbumId\"), \n",
            "\tFOREIGN KEY(\"ArtistId\") REFERENCES artists (\"ArtistId\")\n",
            ")\n",
            "\n",
            "/*\n",
            "3 rows from albums table:\n",
            "AlbumId\tTitle\tArtistId\n",
            "1\tFor Those About To Rock We Salute You\t1\n",
            "2\tBalls to the Wall\t2\n",
            "3\tRestless and Wild\t2\n",
            "*/\n",
            "\n",
            "\n",
            "CREATE TABLE artists (\n",
            "\t\"ArtistId\" INTEGER NOT NULL, \n",
            "\t\"Name\" NVARCHAR(120), \n",
            "\tPRIMARY KEY (\"ArtistId\")\n",
            ")\n",
            "\n",
            "/*\n",
            "3 rows from artists table:\n",
            "ArtistId\tName\n",
            "1\tAC/DC\n",
            "2\tAccept\n",
            "3\tAerosmith\n",
            "*/\u001b[0m\u001b[32;1m\u001b[1;3m\n",
            "Invoking: `sql_db_query` with `SELECT COUNT(*) FROM albums WHERE ArtistId = (SELECT ArtistId FROM artists WHERE Name = 'Alice In Chains')`\n",
            "\n",
            "\n",
            "\u001b[0m\u001b[36;1m\u001b[1;3m[(1,)]\u001b[0m\u001b[32;1m\u001b[1;3mAlice In Chains는 1개의 앨범을 가지고 있습니다.\u001b[0m\n",
            "\n",
            "\u001b[1m> Finished chain.\u001b[0m\n"
          ]
        },
        {
          "output_type": "execute_result",
          "data": {
            "text/plain": [
              "'Alice In Chains는 1개의 앨범을 가지고 있습니다.'"
            ],
            "application/vnd.google.colaboratory.intrinsic+json": {
              "type": "string"
            }
          },
          "metadata": {},
          "execution_count": 27
        }
      ]
    },
    {
      "cell_type": "markdown",
      "source": [
        "보시다시피 에이전트는 이 특정 아티스트에 대한 데이터베이스를 올바르게 쿼리하는 방법을 확인하기 위해 `name_search` 도구를 사용했습니다."
      ],
      "metadata": {
        "id": "D_Au145dHKp_"
      }
    }
  ]
}